{
 "cells": [
  {
   "cell_type": "code",
   "execution_count": 6,
   "id": "aggregate-legislation",
   "metadata": {},
   "outputs": [],
   "source": [
    "import matplotlib.pyplot as plt\n",
    "import numpy as np\n",
    "from sklearn.preprocessing import MinMaxScaler\n",
    "from sklearn.model_selection import cross_val_score, train_test_split, KFold, cross_val_predict\n",
    "from sklearn.ensemble import RandomForestRegressor,GradientBoostingRegressor\n",
    "import pandas as pd\n",
    "import matplotlib.pyplot as plt\n",
    "import seaborn as sns\n",
    "from scipy.stats import norm\n",
    "%matplotlib inline\n",
    "from sklearn.linear_model import LinearRegression, RidgeCV, Lasso, ElasticNetCV, BayesianRidge, LassoLarsIC\n",
    "from sklearn.metrics import mean_squared_error, make_scorer \n",
    "from sklearn.kernel_ridge import KernelRidge\n",
    "from sklearn.pipeline import make_pipeline\n",
    "from sklearn.base import BaseEstimator, TransformerMixin, RegressorMixin, clone\n",
    "import math\n",
    "import warnings as wr"
   ]
  },
  {
   "cell_type": "markdown",
   "id": "practical-klein",
   "metadata": {},
   "source": [
    "# House Pricing EDA & ML model"
   ]
  },
  {
   "cell_type": "code",
   "execution_count": 33,
   "id": "indoor-great",
   "metadata": {},
   "outputs": [],
   "source": [
    "# readin data\n",
    "train_data = pd.read_csv(\"./data/train.csv\")\n",
    "test = pd.read_csv(\"./data/test.csv\")\n",
    "\n"
   ]
  },
  {
   "cell_type": "code",
   "execution_count": 34,
   "id": "creative-statistics",
   "metadata": {},
   "outputs": [
    {
     "data": {
      "text/html": [
       "<div>\n",
       "<style scoped>\n",
       "    .dataframe tbody tr th:only-of-type {\n",
       "        vertical-align: middle;\n",
       "    }\n",
       "\n",
       "    .dataframe tbody tr th {\n",
       "        vertical-align: top;\n",
       "    }\n",
       "\n",
       "    .dataframe thead th {\n",
       "        text-align: right;\n",
       "    }\n",
       "</style>\n",
       "<table border=\"1\" class=\"dataframe\">\n",
       "  <thead>\n",
       "    <tr style=\"text-align: right;\">\n",
       "      <th></th>\n",
       "      <th>Id</th>\n",
       "      <th>MSSubClass</th>\n",
       "      <th>MSZoning</th>\n",
       "      <th>LotFrontage</th>\n",
       "      <th>LotArea</th>\n",
       "      <th>Street</th>\n",
       "      <th>Alley</th>\n",
       "      <th>LotShape</th>\n",
       "      <th>LandContour</th>\n",
       "      <th>Utilities</th>\n",
       "      <th>...</th>\n",
       "      <th>PoolArea</th>\n",
       "      <th>PoolQC</th>\n",
       "      <th>Fence</th>\n",
       "      <th>MiscFeature</th>\n",
       "      <th>MiscVal</th>\n",
       "      <th>MoSold</th>\n",
       "      <th>YrSold</th>\n",
       "      <th>SaleType</th>\n",
       "      <th>SaleCondition</th>\n",
       "      <th>SalePrice</th>\n",
       "    </tr>\n",
       "  </thead>\n",
       "  <tbody>\n",
       "    <tr>\n",
       "      <th>0</th>\n",
       "      <td>1</td>\n",
       "      <td>60</td>\n",
       "      <td>RL</td>\n",
       "      <td>65.0</td>\n",
       "      <td>8450</td>\n",
       "      <td>Pave</td>\n",
       "      <td>NaN</td>\n",
       "      <td>Reg</td>\n",
       "      <td>Lvl</td>\n",
       "      <td>AllPub</td>\n",
       "      <td>...</td>\n",
       "      <td>0</td>\n",
       "      <td>NaN</td>\n",
       "      <td>NaN</td>\n",
       "      <td>NaN</td>\n",
       "      <td>0</td>\n",
       "      <td>2</td>\n",
       "      <td>2008</td>\n",
       "      <td>WD</td>\n",
       "      <td>Normal</td>\n",
       "      <td>208500</td>\n",
       "    </tr>\n",
       "    <tr>\n",
       "      <th>1</th>\n",
       "      <td>2</td>\n",
       "      <td>20</td>\n",
       "      <td>RL</td>\n",
       "      <td>80.0</td>\n",
       "      <td>9600</td>\n",
       "      <td>Pave</td>\n",
       "      <td>NaN</td>\n",
       "      <td>Reg</td>\n",
       "      <td>Lvl</td>\n",
       "      <td>AllPub</td>\n",
       "      <td>...</td>\n",
       "      <td>0</td>\n",
       "      <td>NaN</td>\n",
       "      <td>NaN</td>\n",
       "      <td>NaN</td>\n",
       "      <td>0</td>\n",
       "      <td>5</td>\n",
       "      <td>2007</td>\n",
       "      <td>WD</td>\n",
       "      <td>Normal</td>\n",
       "      <td>181500</td>\n",
       "    </tr>\n",
       "    <tr>\n",
       "      <th>2</th>\n",
       "      <td>3</td>\n",
       "      <td>60</td>\n",
       "      <td>RL</td>\n",
       "      <td>68.0</td>\n",
       "      <td>11250</td>\n",
       "      <td>Pave</td>\n",
       "      <td>NaN</td>\n",
       "      <td>IR1</td>\n",
       "      <td>Lvl</td>\n",
       "      <td>AllPub</td>\n",
       "      <td>...</td>\n",
       "      <td>0</td>\n",
       "      <td>NaN</td>\n",
       "      <td>NaN</td>\n",
       "      <td>NaN</td>\n",
       "      <td>0</td>\n",
       "      <td>9</td>\n",
       "      <td>2008</td>\n",
       "      <td>WD</td>\n",
       "      <td>Normal</td>\n",
       "      <td>223500</td>\n",
       "    </tr>\n",
       "    <tr>\n",
       "      <th>3</th>\n",
       "      <td>4</td>\n",
       "      <td>70</td>\n",
       "      <td>RL</td>\n",
       "      <td>60.0</td>\n",
       "      <td>9550</td>\n",
       "      <td>Pave</td>\n",
       "      <td>NaN</td>\n",
       "      <td>IR1</td>\n",
       "      <td>Lvl</td>\n",
       "      <td>AllPub</td>\n",
       "      <td>...</td>\n",
       "      <td>0</td>\n",
       "      <td>NaN</td>\n",
       "      <td>NaN</td>\n",
       "      <td>NaN</td>\n",
       "      <td>0</td>\n",
       "      <td>2</td>\n",
       "      <td>2006</td>\n",
       "      <td>WD</td>\n",
       "      <td>Abnorml</td>\n",
       "      <td>140000</td>\n",
       "    </tr>\n",
       "    <tr>\n",
       "      <th>4</th>\n",
       "      <td>5</td>\n",
       "      <td>60</td>\n",
       "      <td>RL</td>\n",
       "      <td>84.0</td>\n",
       "      <td>14260</td>\n",
       "      <td>Pave</td>\n",
       "      <td>NaN</td>\n",
       "      <td>IR1</td>\n",
       "      <td>Lvl</td>\n",
       "      <td>AllPub</td>\n",
       "      <td>...</td>\n",
       "      <td>0</td>\n",
       "      <td>NaN</td>\n",
       "      <td>NaN</td>\n",
       "      <td>NaN</td>\n",
       "      <td>0</td>\n",
       "      <td>12</td>\n",
       "      <td>2008</td>\n",
       "      <td>WD</td>\n",
       "      <td>Normal</td>\n",
       "      <td>250000</td>\n",
       "    </tr>\n",
       "  </tbody>\n",
       "</table>\n",
       "<p>5 rows × 81 columns</p>\n",
       "</div>"
      ],
      "text/plain": [
       "   Id  MSSubClass MSZoning  LotFrontage  LotArea Street Alley LotShape  \\\n",
       "0   1          60       RL         65.0     8450   Pave   NaN      Reg   \n",
       "1   2          20       RL         80.0     9600   Pave   NaN      Reg   \n",
       "2   3          60       RL         68.0    11250   Pave   NaN      IR1   \n",
       "3   4          70       RL         60.0     9550   Pave   NaN      IR1   \n",
       "4   5          60       RL         84.0    14260   Pave   NaN      IR1   \n",
       "\n",
       "  LandContour Utilities  ... PoolArea PoolQC Fence MiscFeature MiscVal MoSold  \\\n",
       "0         Lvl    AllPub  ...        0    NaN   NaN         NaN       0      2   \n",
       "1         Lvl    AllPub  ...        0    NaN   NaN         NaN       0      5   \n",
       "2         Lvl    AllPub  ...        0    NaN   NaN         NaN       0      9   \n",
       "3         Lvl    AllPub  ...        0    NaN   NaN         NaN       0      2   \n",
       "4         Lvl    AllPub  ...        0    NaN   NaN         NaN       0     12   \n",
       "\n",
       "  YrSold  SaleType  SaleCondition  SalePrice  \n",
       "0   2008        WD         Normal     208500  \n",
       "1   2007        WD         Normal     181500  \n",
       "2   2008        WD         Normal     223500  \n",
       "3   2006        WD        Abnorml     140000  \n",
       "4   2008        WD         Normal     250000  \n",
       "\n",
       "[5 rows x 81 columns]"
      ]
     },
     "execution_count": 34,
     "metadata": {},
     "output_type": "execute_result"
    }
   ],
   "source": [
    "train_data.head()\n"
   ]
  },
  {
   "cell_type": "code",
   "execution_count": 35,
   "id": "inclusive-reset",
   "metadata": {},
   "outputs": [
    {
     "data": {
      "text/plain": [
       "Index(['Id', 'MSSubClass', 'MSZoning', 'LotFrontage', 'LotArea', 'Street',\n",
       "       'Alley', 'LotShape', 'LandContour', 'Utilities', 'LotConfig',\n",
       "       'LandSlope', 'Neighborhood', 'Condition1', 'Condition2', 'BldgType',\n",
       "       'HouseStyle', 'OverallQual', 'OverallCond', 'YearBuilt', 'YearRemodAdd',\n",
       "       'RoofStyle', 'RoofMatl', 'Exterior1st', 'Exterior2nd', 'MasVnrType',\n",
       "       'MasVnrArea', 'ExterQual', 'ExterCond', 'Foundation', 'BsmtQual',\n",
       "       'BsmtCond', 'BsmtExposure', 'BsmtFinType1', 'BsmtFinSF1',\n",
       "       'BsmtFinType2', 'BsmtFinSF2', 'BsmtUnfSF', 'TotalBsmtSF', 'Heating',\n",
       "       'HeatingQC', 'CentralAir', 'Electrical', '1stFlrSF', '2ndFlrSF',\n",
       "       'LowQualFinSF', 'GrLivArea', 'BsmtFullBath', 'BsmtHalfBath', 'FullBath',\n",
       "       'HalfBath', 'BedroomAbvGr', 'KitchenAbvGr', 'KitchenQual',\n",
       "       'TotRmsAbvGrd', 'Functional', 'Fireplaces', 'FireplaceQu', 'GarageType',\n",
       "       'GarageYrBlt', 'GarageFinish', 'GarageCars', 'GarageArea', 'GarageQual',\n",
       "       'GarageCond', 'PavedDrive', 'WoodDeckSF', 'OpenPorchSF',\n",
       "       'EnclosedPorch', '3SsnPorch', 'ScreenPorch', 'PoolArea', 'PoolQC',\n",
       "       'Fence', 'MiscFeature', 'MiscVal', 'MoSold', 'YrSold', 'SaleType',\n",
       "       'SaleCondition', 'SalePrice'],\n",
       "      dtype='object')"
      ]
     },
     "execution_count": 35,
     "metadata": {},
     "output_type": "execute_result"
    }
   ],
   "source": [
    "# train_data.YrSold.value_counts()\n",
    "train_data.columns"
   ]
  },
  {
   "cell_type": "code",
   "execution_count": 36,
   "id": "proud-recognition",
   "metadata": {},
   "outputs": [],
   "source": [
    "# Seperately store sale_price as result\n",
    "\n",
    "Sale_Price = train_data['SalePrice']"
   ]
  },
  {
   "cell_type": "code",
   "execution_count": 37,
   "id": "superior-nightmare",
   "metadata": {},
   "outputs": [
    {
     "name": "stdout",
     "output_type": "stream",
     "text": [
      "(1460, 81)\n",
      "(1460,)\n"
     ]
    }
   ],
   "source": [
    "print(train_data.shape)\n",
    "print(Sale_Price.shape)\n"
   ]
  },
  {
   "cell_type": "code",
   "execution_count": 38,
   "id": "unsigned-religious",
   "metadata": {},
   "outputs": [
    {
     "name": "stdout",
     "output_type": "stream",
     "text": [
      "(1460, 80)\n"
     ]
    },
    {
     "data": {
      "text/html": [
       "<div>\n",
       "<style scoped>\n",
       "    .dataframe tbody tr th:only-of-type {\n",
       "        vertical-align: middle;\n",
       "    }\n",
       "\n",
       "    .dataframe tbody tr th {\n",
       "        vertical-align: top;\n",
       "    }\n",
       "\n",
       "    .dataframe thead th {\n",
       "        text-align: right;\n",
       "    }\n",
       "</style>\n",
       "<table border=\"1\" class=\"dataframe\">\n",
       "  <thead>\n",
       "    <tr style=\"text-align: right;\">\n",
       "      <th></th>\n",
       "      <th>Id</th>\n",
       "      <th>MSSubClass</th>\n",
       "      <th>MSZoning</th>\n",
       "      <th>LotFrontage</th>\n",
       "      <th>LotArea</th>\n",
       "      <th>Street</th>\n",
       "      <th>Alley</th>\n",
       "      <th>LotShape</th>\n",
       "      <th>LandContour</th>\n",
       "      <th>Utilities</th>\n",
       "      <th>...</th>\n",
       "      <th>ScreenPorch</th>\n",
       "      <th>PoolArea</th>\n",
       "      <th>PoolQC</th>\n",
       "      <th>Fence</th>\n",
       "      <th>MiscFeature</th>\n",
       "      <th>MiscVal</th>\n",
       "      <th>MoSold</th>\n",
       "      <th>YrSold</th>\n",
       "      <th>SaleType</th>\n",
       "      <th>SaleCondition</th>\n",
       "    </tr>\n",
       "  </thead>\n",
       "  <tbody>\n",
       "    <tr>\n",
       "      <th>0</th>\n",
       "      <td>1</td>\n",
       "      <td>60</td>\n",
       "      <td>RL</td>\n",
       "      <td>65.0</td>\n",
       "      <td>8450</td>\n",
       "      <td>Pave</td>\n",
       "      <td>NaN</td>\n",
       "      <td>Reg</td>\n",
       "      <td>Lvl</td>\n",
       "      <td>AllPub</td>\n",
       "      <td>...</td>\n",
       "      <td>0</td>\n",
       "      <td>0</td>\n",
       "      <td>NaN</td>\n",
       "      <td>NaN</td>\n",
       "      <td>NaN</td>\n",
       "      <td>0</td>\n",
       "      <td>2</td>\n",
       "      <td>2008</td>\n",
       "      <td>WD</td>\n",
       "      <td>Normal</td>\n",
       "    </tr>\n",
       "    <tr>\n",
       "      <th>1</th>\n",
       "      <td>2</td>\n",
       "      <td>20</td>\n",
       "      <td>RL</td>\n",
       "      <td>80.0</td>\n",
       "      <td>9600</td>\n",
       "      <td>Pave</td>\n",
       "      <td>NaN</td>\n",
       "      <td>Reg</td>\n",
       "      <td>Lvl</td>\n",
       "      <td>AllPub</td>\n",
       "      <td>...</td>\n",
       "      <td>0</td>\n",
       "      <td>0</td>\n",
       "      <td>NaN</td>\n",
       "      <td>NaN</td>\n",
       "      <td>NaN</td>\n",
       "      <td>0</td>\n",
       "      <td>5</td>\n",
       "      <td>2007</td>\n",
       "      <td>WD</td>\n",
       "      <td>Normal</td>\n",
       "    </tr>\n",
       "    <tr>\n",
       "      <th>2</th>\n",
       "      <td>3</td>\n",
       "      <td>60</td>\n",
       "      <td>RL</td>\n",
       "      <td>68.0</td>\n",
       "      <td>11250</td>\n",
       "      <td>Pave</td>\n",
       "      <td>NaN</td>\n",
       "      <td>IR1</td>\n",
       "      <td>Lvl</td>\n",
       "      <td>AllPub</td>\n",
       "      <td>...</td>\n",
       "      <td>0</td>\n",
       "      <td>0</td>\n",
       "      <td>NaN</td>\n",
       "      <td>NaN</td>\n",
       "      <td>NaN</td>\n",
       "      <td>0</td>\n",
       "      <td>9</td>\n",
       "      <td>2008</td>\n",
       "      <td>WD</td>\n",
       "      <td>Normal</td>\n",
       "    </tr>\n",
       "    <tr>\n",
       "      <th>3</th>\n",
       "      <td>4</td>\n",
       "      <td>70</td>\n",
       "      <td>RL</td>\n",
       "      <td>60.0</td>\n",
       "      <td>9550</td>\n",
       "      <td>Pave</td>\n",
       "      <td>NaN</td>\n",
       "      <td>IR1</td>\n",
       "      <td>Lvl</td>\n",
       "      <td>AllPub</td>\n",
       "      <td>...</td>\n",
       "      <td>0</td>\n",
       "      <td>0</td>\n",
       "      <td>NaN</td>\n",
       "      <td>NaN</td>\n",
       "      <td>NaN</td>\n",
       "      <td>0</td>\n",
       "      <td>2</td>\n",
       "      <td>2006</td>\n",
       "      <td>WD</td>\n",
       "      <td>Abnorml</td>\n",
       "    </tr>\n",
       "    <tr>\n",
       "      <th>4</th>\n",
       "      <td>5</td>\n",
       "      <td>60</td>\n",
       "      <td>RL</td>\n",
       "      <td>84.0</td>\n",
       "      <td>14260</td>\n",
       "      <td>Pave</td>\n",
       "      <td>NaN</td>\n",
       "      <td>IR1</td>\n",
       "      <td>Lvl</td>\n",
       "      <td>AllPub</td>\n",
       "      <td>...</td>\n",
       "      <td>0</td>\n",
       "      <td>0</td>\n",
       "      <td>NaN</td>\n",
       "      <td>NaN</td>\n",
       "      <td>NaN</td>\n",
       "      <td>0</td>\n",
       "      <td>12</td>\n",
       "      <td>2008</td>\n",
       "      <td>WD</td>\n",
       "      <td>Normal</td>\n",
       "    </tr>\n",
       "  </tbody>\n",
       "</table>\n",
       "<p>5 rows × 80 columns</p>\n",
       "</div>"
      ],
      "text/plain": [
       "   Id  MSSubClass MSZoning  LotFrontage  LotArea Street Alley LotShape  \\\n",
       "0   1          60       RL         65.0     8450   Pave   NaN      Reg   \n",
       "1   2          20       RL         80.0     9600   Pave   NaN      Reg   \n",
       "2   3          60       RL         68.0    11250   Pave   NaN      IR1   \n",
       "3   4          70       RL         60.0     9550   Pave   NaN      IR1   \n",
       "4   5          60       RL         84.0    14260   Pave   NaN      IR1   \n",
       "\n",
       "  LandContour Utilities  ... ScreenPorch PoolArea PoolQC Fence MiscFeature  \\\n",
       "0         Lvl    AllPub  ...           0        0    NaN   NaN         NaN   \n",
       "1         Lvl    AllPub  ...           0        0    NaN   NaN         NaN   \n",
       "2         Lvl    AllPub  ...           0        0    NaN   NaN         NaN   \n",
       "3         Lvl    AllPub  ...           0        0    NaN   NaN         NaN   \n",
       "4         Lvl    AllPub  ...           0        0    NaN   NaN         NaN   \n",
       "\n",
       "  MiscVal MoSold  YrSold  SaleType  SaleCondition  \n",
       "0       0      2    2008        WD         Normal  \n",
       "1       0      5    2007        WD         Normal  \n",
       "2       0      9    2008        WD         Normal  \n",
       "3       0      2    2006        WD        Abnorml  \n",
       "4       0     12    2008        WD         Normal  \n",
       "\n",
       "[5 rows x 80 columns]"
      ]
     },
     "execution_count": 38,
     "metadata": {},
     "output_type": "execute_result"
    }
   ],
   "source": [
    "# Droping SalePrice from original train data set\n",
    "train = train_data.drop(['SalePrice'], axis = 1)\n",
    "print(train.shape)\n",
    "train.head()\n"
   ]
  },
  {
   "cell_type": "code",
   "execution_count": 40,
   "id": "dress-nickel",
   "metadata": {},
   "outputs": [
    {
     "name": "stdout",
     "output_type": "stream",
     "text": [
      "(1459, 80)\n"
     ]
    },
    {
     "data": {
      "text/html": [
       "<div>\n",
       "<style scoped>\n",
       "    .dataframe tbody tr th:only-of-type {\n",
       "        vertical-align: middle;\n",
       "    }\n",
       "\n",
       "    .dataframe tbody tr th {\n",
       "        vertical-align: top;\n",
       "    }\n",
       "\n",
       "    .dataframe thead th {\n",
       "        text-align: right;\n",
       "    }\n",
       "</style>\n",
       "<table border=\"1\" class=\"dataframe\">\n",
       "  <thead>\n",
       "    <tr style=\"text-align: right;\">\n",
       "      <th></th>\n",
       "      <th>Id</th>\n",
       "      <th>MSSubClass</th>\n",
       "      <th>MSZoning</th>\n",
       "      <th>LotFrontage</th>\n",
       "      <th>LotArea</th>\n",
       "      <th>Street</th>\n",
       "      <th>Alley</th>\n",
       "      <th>LotShape</th>\n",
       "      <th>LandContour</th>\n",
       "      <th>Utilities</th>\n",
       "      <th>...</th>\n",
       "      <th>ScreenPorch</th>\n",
       "      <th>PoolArea</th>\n",
       "      <th>PoolQC</th>\n",
       "      <th>Fence</th>\n",
       "      <th>MiscFeature</th>\n",
       "      <th>MiscVal</th>\n",
       "      <th>MoSold</th>\n",
       "      <th>YrSold</th>\n",
       "      <th>SaleType</th>\n",
       "      <th>SaleCondition</th>\n",
       "    </tr>\n",
       "  </thead>\n",
       "  <tbody>\n",
       "    <tr>\n",
       "      <th>0</th>\n",
       "      <td>1461</td>\n",
       "      <td>20</td>\n",
       "      <td>RH</td>\n",
       "      <td>80.0</td>\n",
       "      <td>11622</td>\n",
       "      <td>Pave</td>\n",
       "      <td>NaN</td>\n",
       "      <td>Reg</td>\n",
       "      <td>Lvl</td>\n",
       "      <td>AllPub</td>\n",
       "      <td>...</td>\n",
       "      <td>120</td>\n",
       "      <td>0</td>\n",
       "      <td>NaN</td>\n",
       "      <td>MnPrv</td>\n",
       "      <td>NaN</td>\n",
       "      <td>0</td>\n",
       "      <td>6</td>\n",
       "      <td>2010</td>\n",
       "      <td>WD</td>\n",
       "      <td>Normal</td>\n",
       "    </tr>\n",
       "    <tr>\n",
       "      <th>1</th>\n",
       "      <td>1462</td>\n",
       "      <td>20</td>\n",
       "      <td>RL</td>\n",
       "      <td>81.0</td>\n",
       "      <td>14267</td>\n",
       "      <td>Pave</td>\n",
       "      <td>NaN</td>\n",
       "      <td>IR1</td>\n",
       "      <td>Lvl</td>\n",
       "      <td>AllPub</td>\n",
       "      <td>...</td>\n",
       "      <td>0</td>\n",
       "      <td>0</td>\n",
       "      <td>NaN</td>\n",
       "      <td>NaN</td>\n",
       "      <td>Gar2</td>\n",
       "      <td>12500</td>\n",
       "      <td>6</td>\n",
       "      <td>2010</td>\n",
       "      <td>WD</td>\n",
       "      <td>Normal</td>\n",
       "    </tr>\n",
       "    <tr>\n",
       "      <th>2</th>\n",
       "      <td>1463</td>\n",
       "      <td>60</td>\n",
       "      <td>RL</td>\n",
       "      <td>74.0</td>\n",
       "      <td>13830</td>\n",
       "      <td>Pave</td>\n",
       "      <td>NaN</td>\n",
       "      <td>IR1</td>\n",
       "      <td>Lvl</td>\n",
       "      <td>AllPub</td>\n",
       "      <td>...</td>\n",
       "      <td>0</td>\n",
       "      <td>0</td>\n",
       "      <td>NaN</td>\n",
       "      <td>MnPrv</td>\n",
       "      <td>NaN</td>\n",
       "      <td>0</td>\n",
       "      <td>3</td>\n",
       "      <td>2010</td>\n",
       "      <td>WD</td>\n",
       "      <td>Normal</td>\n",
       "    </tr>\n",
       "    <tr>\n",
       "      <th>3</th>\n",
       "      <td>1464</td>\n",
       "      <td>60</td>\n",
       "      <td>RL</td>\n",
       "      <td>78.0</td>\n",
       "      <td>9978</td>\n",
       "      <td>Pave</td>\n",
       "      <td>NaN</td>\n",
       "      <td>IR1</td>\n",
       "      <td>Lvl</td>\n",
       "      <td>AllPub</td>\n",
       "      <td>...</td>\n",
       "      <td>0</td>\n",
       "      <td>0</td>\n",
       "      <td>NaN</td>\n",
       "      <td>NaN</td>\n",
       "      <td>NaN</td>\n",
       "      <td>0</td>\n",
       "      <td>6</td>\n",
       "      <td>2010</td>\n",
       "      <td>WD</td>\n",
       "      <td>Normal</td>\n",
       "    </tr>\n",
       "    <tr>\n",
       "      <th>4</th>\n",
       "      <td>1465</td>\n",
       "      <td>120</td>\n",
       "      <td>RL</td>\n",
       "      <td>43.0</td>\n",
       "      <td>5005</td>\n",
       "      <td>Pave</td>\n",
       "      <td>NaN</td>\n",
       "      <td>IR1</td>\n",
       "      <td>HLS</td>\n",
       "      <td>AllPub</td>\n",
       "      <td>...</td>\n",
       "      <td>144</td>\n",
       "      <td>0</td>\n",
       "      <td>NaN</td>\n",
       "      <td>NaN</td>\n",
       "      <td>NaN</td>\n",
       "      <td>0</td>\n",
       "      <td>1</td>\n",
       "      <td>2010</td>\n",
       "      <td>WD</td>\n",
       "      <td>Normal</td>\n",
       "    </tr>\n",
       "  </tbody>\n",
       "</table>\n",
       "<p>5 rows × 80 columns</p>\n",
       "</div>"
      ],
      "text/plain": [
       "     Id  MSSubClass MSZoning  LotFrontage  LotArea Street Alley LotShape  \\\n",
       "0  1461          20       RH         80.0    11622   Pave   NaN      Reg   \n",
       "1  1462          20       RL         81.0    14267   Pave   NaN      IR1   \n",
       "2  1463          60       RL         74.0    13830   Pave   NaN      IR1   \n",
       "3  1464          60       RL         78.0     9978   Pave   NaN      IR1   \n",
       "4  1465         120       RL         43.0     5005   Pave   NaN      IR1   \n",
       "\n",
       "  LandContour Utilities  ... ScreenPorch PoolArea PoolQC  Fence MiscFeature  \\\n",
       "0         Lvl    AllPub  ...         120        0    NaN  MnPrv         NaN   \n",
       "1         Lvl    AllPub  ...           0        0    NaN    NaN        Gar2   \n",
       "2         Lvl    AllPub  ...           0        0    NaN  MnPrv         NaN   \n",
       "3         Lvl    AllPub  ...           0        0    NaN    NaN         NaN   \n",
       "4         HLS    AllPub  ...         144        0    NaN    NaN         NaN   \n",
       "\n",
       "  MiscVal MoSold  YrSold  SaleType  SaleCondition  \n",
       "0       0      6    2010        WD         Normal  \n",
       "1   12500      6    2010        WD         Normal  \n",
       "2       0      3    2010        WD         Normal  \n",
       "3       0      6    2010        WD         Normal  \n",
       "4       0      1    2010        WD         Normal  \n",
       "\n",
       "[5 rows x 80 columns]"
      ]
     },
     "execution_count": 40,
     "metadata": {},
     "output_type": "execute_result"
    }
   ],
   "source": [
    "# Test data don't have SalePrice, need to use model to predict\n",
    "print(test.shape)\n",
    "test.head()"
   ]
  },
  {
   "cell_type": "markdown",
   "id": "veterinary-photographer",
   "metadata": {},
   "source": [
    "# Data Preprocessing  \n",
    "combining training & testing data for preposesing after that we do not write same code for test"
   ]
  },
  {
   "cell_type": "code",
   "execution_count": 45,
   "id": "egyptian-baseline",
   "metadata": {},
   "outputs": [],
   "source": [
    "# The 'keys' in concat can help us easier to identify training data and testing data\n",
    "data = pd.concat([train, test], keys=['x','y'])\n",
    "data = data.drop(['Id'], axis = 1)"
   ]
  },
  {
   "cell_type": "code",
   "execution_count": 48,
   "id": "extreme-adams",
   "metadata": {},
   "outputs": [
    {
     "data": {
      "text/plain": [
       "(2919, 79)"
      ]
     },
     "execution_count": 48,
     "metadata": {},
     "output_type": "execute_result"
    }
   ],
   "source": [
    "data.shape\n"
   ]
  },
  {
   "cell_type": "markdown",
   "id": "empirical-taxation",
   "metadata": {},
   "source": [
    "## Dealing with null values\n"
   ]
  },
  {
   "cell_type": "code",
   "execution_count": 75,
   "id": "capable-battle",
   "metadata": {},
   "outputs": [
    {
     "data": {
      "text/html": [
       "<div>\n",
       "<style scoped>\n",
       "    .dataframe tbody tr th:only-of-type {\n",
       "        vertical-align: middle;\n",
       "    }\n",
       "\n",
       "    .dataframe tbody tr th {\n",
       "        vertical-align: top;\n",
       "    }\n",
       "\n",
       "    .dataframe thead th {\n",
       "        text-align: right;\n",
       "    }\n",
       "</style>\n",
       "<table border=\"1\" class=\"dataframe\">\n",
       "  <thead>\n",
       "    <tr style=\"text-align: right;\">\n",
       "      <th></th>\n",
       "      <th>Toal null</th>\n",
       "      <th>null percentage</th>\n",
       "    </tr>\n",
       "  </thead>\n",
       "  <tbody>\n",
       "    <tr>\n",
       "      <th>PoolQC</th>\n",
       "      <td>2909</td>\n",
       "      <td>0.996574</td>\n",
       "    </tr>\n",
       "    <tr>\n",
       "      <th>MiscFeature</th>\n",
       "      <td>2814</td>\n",
       "      <td>0.964029</td>\n",
       "    </tr>\n",
       "    <tr>\n",
       "      <th>Alley</th>\n",
       "      <td>2721</td>\n",
       "      <td>0.932169</td>\n",
       "    </tr>\n",
       "    <tr>\n",
       "      <th>Fence</th>\n",
       "      <td>2348</td>\n",
       "      <td>0.804385</td>\n",
       "    </tr>\n",
       "    <tr>\n",
       "      <th>FireplaceQu</th>\n",
       "      <td>1420</td>\n",
       "      <td>0.486468</td>\n",
       "    </tr>\n",
       "    <tr>\n",
       "      <th>LotFrontage</th>\n",
       "      <td>486</td>\n",
       "      <td>0.166495</td>\n",
       "    </tr>\n",
       "    <tr>\n",
       "      <th>GarageYrBlt</th>\n",
       "      <td>159</td>\n",
       "      <td>0.054471</td>\n",
       "    </tr>\n",
       "    <tr>\n",
       "      <th>GarageFinish</th>\n",
       "      <td>159</td>\n",
       "      <td>0.054471</td>\n",
       "    </tr>\n",
       "    <tr>\n",
       "      <th>GarageQual</th>\n",
       "      <td>159</td>\n",
       "      <td>0.054471</td>\n",
       "    </tr>\n",
       "    <tr>\n",
       "      <th>GarageCond</th>\n",
       "      <td>159</td>\n",
       "      <td>0.054471</td>\n",
       "    </tr>\n",
       "    <tr>\n",
       "      <th>GarageType</th>\n",
       "      <td>157</td>\n",
       "      <td>0.053786</td>\n",
       "    </tr>\n",
       "    <tr>\n",
       "      <th>BsmtExposure</th>\n",
       "      <td>82</td>\n",
       "      <td>0.028092</td>\n",
       "    </tr>\n",
       "    <tr>\n",
       "      <th>BsmtCond</th>\n",
       "      <td>82</td>\n",
       "      <td>0.028092</td>\n",
       "    </tr>\n",
       "    <tr>\n",
       "      <th>BsmtQual</th>\n",
       "      <td>81</td>\n",
       "      <td>0.027749</td>\n",
       "    </tr>\n",
       "    <tr>\n",
       "      <th>BsmtFinType2</th>\n",
       "      <td>80</td>\n",
       "      <td>0.027407</td>\n",
       "    </tr>\n",
       "    <tr>\n",
       "      <th>BsmtFinType1</th>\n",
       "      <td>79</td>\n",
       "      <td>0.027064</td>\n",
       "    </tr>\n",
       "    <tr>\n",
       "      <th>MasVnrType</th>\n",
       "      <td>24</td>\n",
       "      <td>0.008222</td>\n",
       "    </tr>\n",
       "    <tr>\n",
       "      <th>MasVnrArea</th>\n",
       "      <td>23</td>\n",
       "      <td>0.007879</td>\n",
       "    </tr>\n",
       "    <tr>\n",
       "      <th>MSZoning</th>\n",
       "      <td>4</td>\n",
       "      <td>0.001370</td>\n",
       "    </tr>\n",
       "    <tr>\n",
       "      <th>Functional</th>\n",
       "      <td>2</td>\n",
       "      <td>0.000685</td>\n",
       "    </tr>\n",
       "  </tbody>\n",
       "</table>\n",
       "</div>"
      ],
      "text/plain": [
       "              Toal null  null percentage\n",
       "PoolQC             2909         0.996574\n",
       "MiscFeature        2814         0.964029\n",
       "Alley              2721         0.932169\n",
       "Fence              2348         0.804385\n",
       "FireplaceQu        1420         0.486468\n",
       "LotFrontage         486         0.166495\n",
       "GarageYrBlt         159         0.054471\n",
       "GarageFinish        159         0.054471\n",
       "GarageQual          159         0.054471\n",
       "GarageCond          159         0.054471\n",
       "GarageType          157         0.053786\n",
       "BsmtExposure         82         0.028092\n",
       "BsmtCond             82         0.028092\n",
       "BsmtQual             81         0.027749\n",
       "BsmtFinType2         80         0.027407\n",
       "BsmtFinType1         79         0.027064\n",
       "MasVnrType           24         0.008222\n",
       "MasVnrArea           23         0.007879\n",
       "MSZoning              4         0.001370\n",
       "Functional            2         0.000685"
      ]
     },
     "execution_count": 75,
     "metadata": {},
     "output_type": "execute_result"
    }
   ],
   "source": [
    "## KEY, using data.isnull(), return all null, after sum, will aggregate according to each category\n",
    "total_null = data.isnull().sum().sort_values(ascending=False)\n",
    "null_percentage = (data.isnull().sum() / data.isnull().count()).sort_values(ascending=False)\n",
    "# NOTE: notice, after data.isnull(), return True/False, so count will count total item \n",
    "\n",
    "missing_data = pd.concat([total_null, null_percentage], axis= 1, keys=['Toal null', 'null percentage'])\n",
    "missing_data.head(20)"
   ]
  },
  {
   "cell_type": "markdown",
   "id": "accessible-robertson",
   "metadata": {},
   "source": [
    "### Insight from missing data\n",
    "* PoolQC, MiscFeature, Alley, Fence, FireplaceQu and LotFrontage. These are all variables which presents many null values. These are not vital information. **General should not exceed 15% null percentage**  \n"
   ]
  },
  {
   "cell_type": "code",
   "execution_count": 98,
   "id": "focused-graduate",
   "metadata": {},
   "outputs": [],
   "source": [
    "#Drop All Var. with null values > 1\n",
    "data = data.drop((missing_data[missing_data[\"null percentage\"] > 0.05]).index, axis= 1) "
   ]
  },
  {
   "cell_type": "code",
   "execution_count": 107,
   "id": "curious-lloyd",
   "metadata": {},
   "outputs": [
    {
     "data": {
      "text/plain": [
       "BsmtExposure     82\n",
       "BsmtCond         82\n",
       "BsmtQual         81\n",
       "BsmtFinType2     80\n",
       "BsmtFinType1     79\n",
       "                 ..\n",
       "Foundation        0\n",
       "Heating           0\n",
       "HeatingQC         0\n",
       "CentralAir        0\n",
       "SaleCondition     0\n",
       "Length: 68, dtype: int64"
      ]
     },
     "execution_count": 107,
     "metadata": {},
     "output_type": "execute_result"
    }
   ],
   "source": [
    "data.isnull().sum().sort_values(ascending = False)"
   ]
  },
  {
   "cell_type": "markdown",
   "id": "developing-carry",
   "metadata": {},
   "source": [
    "### filling null value\n",
    "**Finding numeric column from data**  \n",
    "\n",
    "**df._get_nemeric_data()** will return data that is in numeric form"
   ]
  },
  {
   "cell_type": "code",
   "execution_count": 116,
   "id": "magnetic-gilbert",
   "metadata": {},
   "outputs": [],
   "source": [
    "# data._get_numeric_data()\n",
    "num_col = data._get_numeric_data().columns.tolist()\n"
   ]
  },
  {
   "cell_type": "markdown",
   "id": "surprised-president",
   "metadata": {},
   "source": [
    "### **Finding catogorical features**"
   ]
  },
  {
   "cell_type": "code",
   "execution_count": 118,
   "id": "assured-sleeve",
   "metadata": {},
   "outputs": [],
   "source": [
    "cat_col = set(data.columns) - set(num_col)\n",
    "# cat_col                          "
   ]
  },
  {
   "cell_type": "markdown",
   "id": "streaming-brighton",
   "metadata": {},
   "source": [
    "**Filling numrical missing value with mean value**"
   ]
  },
  {
   "cell_type": "code",
   "execution_count": 120,
   "id": "original-hawaiian",
   "metadata": {},
   "outputs": [],
   "source": [
    "for col in num_col:\n",
    "#     print(col)\n",
    "#     print(data[col].mean())\n",
    "    data[col].fillna(data[col].mean(), inplace = True)"
   ]
  },
  {
   "cell_type": "code",
   "execution_count": 145,
   "id": "african-explanation",
   "metadata": {},
   "outputs": [],
   "source": [
    "# Check no null left\n",
    "# for col in num_col:\n",
    "#     print(col)\n",
    "#     print(data[col].isnull().sum())"
   ]
  },
  {
   "cell_type": "markdown",
   "id": "graphic-movement",
   "metadata": {},
   "source": [
    "**Filling catgorical missing value with mode (most occurence val)**"
   ]
  },
  {
   "cell_type": "code",
   "execution_count": 133,
   "id": "structured-truth",
   "metadata": {},
   "outputs": [],
   "source": [
    "for col in cat_col:\n",
    "#     print(col)\n",
    "#     print(data[col].mode()[0])\n",
    "    data[col].fillna(data[col].mode()[0],inplace=True)"
   ]
  },
  {
   "cell_type": "code",
   "execution_count": 146,
   "id": "atmospheric-assets",
   "metadata": {},
   "outputs": [],
   "source": [
    "# for col in cat_col:\n",
    "#     print(col)\n",
    "#     print(data[col].isnull().sum())"
   ]
  },
  {
   "cell_type": "markdown",
   "id": "plain-sentence",
   "metadata": {},
   "source": [
    "Check whether there are null left"
   ]
  },
  {
   "cell_type": "code",
   "execution_count": 136,
   "id": "local-theater",
   "metadata": {},
   "outputs": [
    {
     "data": {
      "text/plain": [
       "0"
      ]
     },
     "execution_count": 136,
     "metadata": {},
     "output_type": "execute_result"
    }
   ],
   "source": [
    "data.isnull().sum().max()"
   ]
  },
  {
   "cell_type": "markdown",
   "id": "corresponding-shepherd",
   "metadata": {},
   "source": [
    "**NOTE, drop duplicate data entries**  \n",
    "To achieve, first, Transpose data, then use **drop_duplicates()**   \n",
    "This will drop **duplicate column**, in this scenario will be the duplicate data entry  \n",
    "then transpose back to be original df  "
   ]
  },
  {
   "cell_type": "code",
   "execution_count": 140,
   "id": "based-reservoir",
   "metadata": {},
   "outputs": [
    {
     "data": {
      "text/plain": [
       "(2919, 68)"
      ]
     },
     "execution_count": 140,
     "metadata": {},
     "output_type": "execute_result"
    }
   ],
   "source": [
    "data.shape"
   ]
  },
  {
   "cell_type": "code",
   "execution_count": 141,
   "id": "greek-activation",
   "metadata": {},
   "outputs": [
    {
     "data": {
      "text/plain": [
       "(2919, 68)"
      ]
     },
     "execution_count": 141,
     "metadata": {},
     "output_type": "execute_result"
    }
   ],
   "source": [
    "# Drop \n",
    "data = data.T.drop_duplicates().T\n",
    "data.shape"
   ]
  },
  {
   "cell_type": "markdown",
   "id": "written-bowling",
   "metadata": {},
   "source": [
    "### Find some col has too many the same value"
   ]
  },
  {
   "cell_type": "code",
   "execution_count": 151,
   "id": "quality-explosion",
   "metadata": {},
   "outputs": [
    {
     "name": "stdout",
     "output_type": "stream",
     "text": [
      "Column name: ExterQual\n",
      "Column name: SaleType\n",
      "WD       2526\n",
      "New       239\n",
      "COD        87\n",
      "ConLD      26\n",
      "CWD        12\n",
      "ConLI       9\n",
      "ConLw       8\n",
      "Oth         7\n",
      "Con         5\n",
      "Name: SaleType, dtype: int64\n",
      "Column name: BsmtCond\n",
      "TA    2688\n",
      "Gd     122\n",
      "Fa     104\n",
      "Po       5\n",
      "Name: BsmtCond, dtype: int64\n",
      "Column name: Exterior1st\n",
      "Column name: BldgType\n",
      "1Fam      2425\n",
      "TwnhsE     227\n",
      "Duplex     109\n",
      "Twnhs       96\n",
      "2fmCon      62\n",
      "Name: BldgType, dtype: int64\n",
      "Column name: Condition1\n",
      "Norm      2511\n",
      "Feedr      164\n",
      "Artery      92\n",
      "RRAn        50\n",
      "PosN        39\n",
      "RRAe        28\n",
      "PosA        20\n",
      "RRNn         9\n",
      "RRNe         6\n",
      "Name: Condition1, dtype: int64\n",
      "Column name: Electrical\n",
      "SBrkr    2672\n",
      "FuseA     188\n",
      "FuseF      50\n",
      "FuseP       8\n",
      "Mix         1\n",
      "Name: Electrical, dtype: int64\n",
      "Column name: ExterCond\n",
      "TA    2538\n",
      "Gd     299\n",
      "Fa      67\n",
      "Ex      12\n",
      "Po       3\n",
      "Name: ExterCond, dtype: int64\n",
      "Column name: Foundation\n",
      "Column name: Street\n",
      "Pave    2907\n",
      "Grvl      12\n",
      "Name: Street, dtype: int64\n",
      "Column name: HeatingQC\n",
      "Column name: MSZoning\n",
      "Column name: BsmtQual\n",
      "Column name: HouseStyle\n",
      "Column name: Neighborhood\n",
      "Column name: BsmtFinType1\n",
      "Column name: LotConfig\n",
      "Column name: PavedDrive\n",
      "Y    2641\n",
      "N     216\n",
      "P      62\n",
      "Name: PavedDrive, dtype: int64\n",
      "Column name: BsmtFinType2\n",
      "Unf    2573\n",
      "Rec     105\n",
      "LwQ      87\n",
      "BLQ      68\n",
      "ALQ      52\n",
      "GLQ      34\n",
      "Name: BsmtFinType2, dtype: int64\n",
      "Column name: RoofStyle\n",
      "Column name: MasVnrType\n",
      "Column name: CentralAir\n",
      "Y    2723\n",
      "N     196\n",
      "Name: CentralAir, dtype: int64\n",
      "Column name: Exterior2nd\n",
      "Column name: Functional\n",
      "Typ     2719\n",
      "Min2      70\n",
      "Min1      65\n",
      "Mod       35\n",
      "Maj1      19\n",
      "Maj2       9\n",
      "Sev        2\n",
      "Name: Functional, dtype: int64\n",
      "Column name: Utilities\n",
      "AllPub    2918\n",
      "NoSeWa       1\n",
      "Name: Utilities, dtype: int64\n",
      "Column name: BsmtExposure\n",
      "Column name: RoofMatl\n",
      "CompShg    2876\n",
      "Tar&Grv      23\n",
      "WdShake       9\n",
      "WdShngl       7\n",
      "Roll          1\n",
      "Metal         1\n",
      "Membran       1\n",
      "ClyTile       1\n",
      "Name: RoofMatl, dtype: int64\n",
      "Column name: SaleCondition\n",
      "Normal     2402\n",
      "Partial     245\n",
      "Abnorml     190\n",
      "Family       46\n",
      "Alloca       24\n",
      "AdjLand      12\n",
      "Name: SaleCondition, dtype: int64\n",
      "Column name: Heating\n",
      "GasA     2874\n",
      "GasW       27\n",
      "Grav        9\n",
      "Wall        6\n",
      "OthW        2\n",
      "Floor       1\n",
      "Name: Heating, dtype: int64\n",
      "Column name: LandContour\n",
      "Lvl    2622\n",
      "HLS     120\n",
      "Bnk     117\n",
      "Low      60\n",
      "Name: LandContour, dtype: int64\n",
      "Column name: Condition2\n",
      "Norm      2889\n",
      "Feedr       13\n",
      "Artery       5\n",
      "PosA         4\n",
      "PosN         4\n",
      "RRNn         2\n",
      "RRAn         1\n",
      "RRAe         1\n",
      "Name: Condition2, dtype: int64\n",
      "Column name: LotShape\n",
      "Column name: KitchenQual\n",
      "Column name: LandSlope\n",
      "Gtl    2778\n",
      "Mod     125\n",
      "Sev      16\n",
      "Name: LandSlope, dtype: int64\n"
     ]
    }
   ],
   "source": [
    "#count total value in every catgorical feature\n",
    "\n",
    "Maj_same_val_list = []\n",
    "for i in cat_col:\n",
    "    print(\"Column name:\",i)\n",
    "    total = data[i].value_counts().sum()\n",
    "    if data[i].value_counts().max() >= total*0.8:\n",
    "        Maj_same_val_list.append(i)\n",
    "        print(data[i].value_counts())"
   ]
  },
  {
   "cell_type": "code",
   "execution_count": 150,
   "id": "sonic-montana",
   "metadata": {},
   "outputs": [
    {
     "data": {
      "text/plain": [
       "['SaleType',\n",
       " 'BsmtCond',\n",
       " 'BldgType',\n",
       " 'Condition1',\n",
       " 'Electrical',\n",
       " 'ExterCond',\n",
       " 'Street',\n",
       " 'PavedDrive',\n",
       " 'BsmtFinType2',\n",
       " 'CentralAir',\n",
       " 'Functional',\n",
       " 'Utilities',\n",
       " 'RoofMatl',\n",
       " 'SaleCondition',\n",
       " 'Heating',\n",
       " 'LandContour',\n",
       " 'Condition2',\n",
       " 'LandSlope']"
      ]
     },
     "execution_count": 150,
     "metadata": {},
     "output_type": "execute_result"
    }
   ],
   "source": [
    "Maj_same_val_list"
   ]
  },
  {
   "cell_type": "code",
   "execution_count": 300,
   "id": "novel-canberra",
   "metadata": {},
   "outputs": [
    {
     "data": {
      "text/plain": [
       "{'BldgType',\n",
       " 'BsmtFinType2',\n",
       " 'LandContour',\n",
       " 'PavedDrive',\n",
       " 'SaleCondition',\n",
       " 'Street',\n",
       " 'Utilities'}"
      ]
     },
     "execution_count": 300,
     "metadata": {},
     "output_type": "execute_result"
    }
   ],
   "source": [
    "# droping some unnecessary cat_features bcoz they have 80% + same value and 20% \n",
    "# defertnt values so they can't effect score\n",
    "df=data.drop([\"RoofMatl\",\"Heating\",\"Condition2\",\"BsmtCond\",\"SaleType\",\n",
    "                \"CentralAir\",\"Functional\",\"Electrical\",\"LandSlope\",\"ExterCond\",\"Condition1\",\n",
    "               \"GarageArea\",\"BsmtUnfSF\",\"3SsnPorch\",\"MiscVal\"],axis=1) \n",
    "set(Maj_same_val_list) - set(nn)"
   ]
  },
  {
   "cell_type": "markdown",
   "id": "constant-messaging",
   "metadata": {},
   "source": [
    "# EDA"
   ]
  },
  {
   "cell_type": "markdown",
   "id": "liable-bailey",
   "metadata": {},
   "source": [
    "[df.corr()](https://vimsky.com/zh-tw/examples/usage/python-pandas-dataframe-corr.html)\n",
    "helps to find the correlation matrix\n",
    "\n",
    "**NOTE: Beacues SalePrice is the target, so the features that is more correlated to SalePrice is consiedered top_corr_features**"
   ]
  },
  {
   "cell_type": "code",
   "execution_count": 170,
   "id": "proof-minority",
   "metadata": {},
   "outputs": [
    {
     "data": {
      "image/png": "[encoded data removed]",
      "text/plain": [
       "<Figure size 648x648 with 2 Axes>"
      ]
     },
     "metadata": {
      "needs_background": "light"
     },
     "output_type": "display_data"
    }
   ],
   "source": [
    "corrmat = train_data.corr()\n",
    "# use corr to find the correlation matrix\n",
    "top_corr_features = corrmat[abs(corrmat['SalePrice'] > 0.5)].index\n",
    "# find the top_features\n",
    "plt.figure(figsize=(9,9))\n",
    "# Use these attributes to form the heatmap\n",
    "# train_data[top_corr_features]\n",
    "g = sns.heatmap(train_data[top_corr_features].corr(),annot=True,cmap=\"coolwarm\")"
   ]
  },
  {
   "cell_type": "code",
   "execution_count": 176,
   "id": "nearby-delta",
   "metadata": {},
   "outputs": [
    {
     "data": {
      "text/plain": [
       "SalePrice        1.000000\n",
       "OverallQual      0.790982\n",
       "GrLivArea        0.708624\n",
       "GarageCars       0.640409\n",
       "GarageArea       0.623431\n",
       "TotalBsmtSF      0.613581\n",
       "1stFlrSF         0.605852\n",
       "FullBath         0.560664\n",
       "TotRmsAbvGrd     0.533723\n",
       "YearBuilt        0.522897\n",
       "YearRemodAdd     0.507101\n",
       "GarageYrBlt      0.486362\n",
       "MasVnrArea       0.477493\n",
       "Fireplaces       0.466929\n",
       "BsmtFinSF1       0.386420\n",
       "LotFrontage      0.351799\n",
       "WoodDeckSF       0.324413\n",
       "2ndFlrSF         0.319334\n",
       "OpenPorchSF      0.315856\n",
       "HalfBath         0.284108\n",
       "LotArea          0.263843\n",
       "BsmtFullBath     0.227122\n",
       "BsmtUnfSF        0.214479\n",
       "BedroomAbvGr     0.168213\n",
       "ScreenPorch      0.111447\n",
       "PoolArea         0.092404\n",
       "MoSold           0.046432\n",
       "3SsnPorch        0.044584\n",
       "BsmtFinSF2      -0.011378\n",
       "BsmtHalfBath    -0.016844\n",
       "MiscVal         -0.021190\n",
       "Id              -0.021917\n",
       "LowQualFinSF    -0.025606\n",
       "YrSold          -0.028923\n",
       "OverallCond     -0.077856\n",
       "MSSubClass      -0.084284\n",
       "EnclosedPorch   -0.128578\n",
       "KitchenAbvGr    -0.135907\n",
       "Name: SalePrice, dtype: float64"
      ]
     },
     "execution_count": 176,
     "metadata": {},
     "output_type": "execute_result"
    }
   ],
   "source": [
    "# All the correlation regarding to SalePRice\n",
    "train_data.corr()['SalePrice'].sort_values(ascending = False)"
   ]
  },
  {
   "cell_type": "code",
   "execution_count": 301,
   "id": "controlling-coordination",
   "metadata": {},
   "outputs": [],
   "source": [
    "#droping low version feature\n",
    "df=df.drop([\"BldgType\",\"Exterior1st\",\"Exterior2nd\",\"Foundation\",\"BsmtFinType2\",\"YrSold\",\"SaleCondition\",\"RoofStyle\"],axis=1)"
   ]
  },
  {
   "cell_type": "code",
   "execution_count": 302,
   "id": "wicked-mounting",
   "metadata": {},
   "outputs": [
    {
     "data": {
      "text/plain": [
       "(2919, 45)"
      ]
     },
     "execution_count": 302,
     "metadata": {},
     "output_type": "execute_result"
    }
   ],
   "source": [
    "df.shape\n"
   ]
  },
  {
   "cell_type": "code",
   "execution_count": 229,
   "id": "eight-courage",
   "metadata": {},
   "outputs": [
    {
     "data": {
      "text/html": [
       "<div>\n",
       "<style scoped>\n",
       "    .dataframe tbody tr th:only-of-type {\n",
       "        vertical-align: middle;\n",
       "    }\n",
       "\n",
       "    .dataframe tbody tr th {\n",
       "        vertical-align: top;\n",
       "    }\n",
       "\n",
       "    .dataframe thead th {\n",
       "        text-align: right;\n",
       "    }\n",
       "</style>\n",
       "<table border=\"1\" class=\"dataframe\">\n",
       "  <thead>\n",
       "    <tr style=\"text-align: right;\">\n",
       "      <th></th>\n",
       "      <th>MSSubClass</th>\n",
       "      <th>MSZoning</th>\n",
       "      <th>LotArea</th>\n",
       "      <th>Street</th>\n",
       "      <th>LotShape</th>\n",
       "      <th>LandContour</th>\n",
       "      <th>Utilities</th>\n",
       "      <th>LotConfig</th>\n",
       "      <th>Neighborhood</th>\n",
       "      <th>HouseStyle</th>\n",
       "      <th>...</th>\n",
       "      <th>TotRmsAbvGrd</th>\n",
       "      <th>Fireplaces</th>\n",
       "      <th>GarageCars</th>\n",
       "      <th>PavedDrive</th>\n",
       "      <th>WoodDeckSF</th>\n",
       "      <th>OpenPorchSF</th>\n",
       "      <th>EnclosedPorch</th>\n",
       "      <th>ScreenPorch</th>\n",
       "      <th>PoolArea</th>\n",
       "      <th>MoSold</th>\n",
       "    </tr>\n",
       "  </thead>\n",
       "  <tbody>\n",
       "    <tr>\n",
       "      <th>count</th>\n",
       "      <td>2919</td>\n",
       "      <td>2919</td>\n",
       "      <td>2919</td>\n",
       "      <td>2919</td>\n",
       "      <td>2919</td>\n",
       "      <td>2919</td>\n",
       "      <td>2919</td>\n",
       "      <td>2919</td>\n",
       "      <td>2919</td>\n",
       "      <td>2919</td>\n",
       "      <td>...</td>\n",
       "      <td>2919</td>\n",
       "      <td>2919</td>\n",
       "      <td>2919.0</td>\n",
       "      <td>2919</td>\n",
       "      <td>2919</td>\n",
       "      <td>2919</td>\n",
       "      <td>2919</td>\n",
       "      <td>2919</td>\n",
       "      <td>2919</td>\n",
       "      <td>2919</td>\n",
       "    </tr>\n",
       "    <tr>\n",
       "      <th>unique</th>\n",
       "      <td>16</td>\n",
       "      <td>5</td>\n",
       "      <td>1951</td>\n",
       "      <td>2</td>\n",
       "      <td>4</td>\n",
       "      <td>4</td>\n",
       "      <td>2</td>\n",
       "      <td>5</td>\n",
       "      <td>25</td>\n",
       "      <td>8</td>\n",
       "      <td>...</td>\n",
       "      <td>14</td>\n",
       "      <td>5</td>\n",
       "      <td>7.0</td>\n",
       "      <td>3</td>\n",
       "      <td>379</td>\n",
       "      <td>252</td>\n",
       "      <td>183</td>\n",
       "      <td>121</td>\n",
       "      <td>14</td>\n",
       "      <td>12</td>\n",
       "    </tr>\n",
       "    <tr>\n",
       "      <th>top</th>\n",
       "      <td>20</td>\n",
       "      <td>RL</td>\n",
       "      <td>9600</td>\n",
       "      <td>Pave</td>\n",
       "      <td>Reg</td>\n",
       "      <td>Lvl</td>\n",
       "      <td>AllPub</td>\n",
       "      <td>Inside</td>\n",
       "      <td>NAmes</td>\n",
       "      <td>1Story</td>\n",
       "      <td>...</td>\n",
       "      <td>6</td>\n",
       "      <td>0</td>\n",
       "      <td>2.0</td>\n",
       "      <td>Y</td>\n",
       "      <td>0</td>\n",
       "      <td>0</td>\n",
       "      <td>0</td>\n",
       "      <td>0</td>\n",
       "      <td>0</td>\n",
       "      <td>6</td>\n",
       "    </tr>\n",
       "    <tr>\n",
       "      <th>freq</th>\n",
       "      <td>1079</td>\n",
       "      <td>2269</td>\n",
       "      <td>44</td>\n",
       "      <td>2907</td>\n",
       "      <td>1859</td>\n",
       "      <td>2622</td>\n",
       "      <td>2918</td>\n",
       "      <td>2133</td>\n",
       "      <td>443</td>\n",
       "      <td>1471</td>\n",
       "      <td>...</td>\n",
       "      <td>844</td>\n",
       "      <td>1420</td>\n",
       "      <td>1594.0</td>\n",
       "      <td>2641</td>\n",
       "      <td>1523</td>\n",
       "      <td>1298</td>\n",
       "      <td>2460</td>\n",
       "      <td>2663</td>\n",
       "      <td>2906</td>\n",
       "      <td>503</td>\n",
       "    </tr>\n",
       "  </tbody>\n",
       "</table>\n",
       "<p>4 rows × 45 columns</p>\n",
       "</div>"
      ],
      "text/plain": [
       "        MSSubClass MSZoning  LotArea Street LotShape LandContour Utilities  \\\n",
       "count         2919     2919     2919   2919     2919        2919      2919   \n",
       "unique          16        5     1951      2        4           4         2   \n",
       "top             20       RL     9600   Pave      Reg         Lvl    AllPub   \n",
       "freq          1079     2269       44   2907     1859        2622      2918   \n",
       "\n",
       "       LotConfig Neighborhood HouseStyle  ...  TotRmsAbvGrd  Fireplaces  \\\n",
       "count       2919         2919       2919  ...          2919        2919   \n",
       "unique         5           25          8  ...            14           5   \n",
       "top       Inside        NAmes     1Story  ...             6           0   \n",
       "freq        2133          443       1471  ...           844        1420   \n",
       "\n",
       "        GarageCars  PavedDrive WoodDeckSF  OpenPorchSF EnclosedPorch  \\\n",
       "count       2919.0        2919       2919         2919          2919   \n",
       "unique         7.0           3        379          252           183   \n",
       "top            2.0           Y          0            0             0   \n",
       "freq        1594.0        2641       1523         1298          2460   \n",
       "\n",
       "       ScreenPorch PoolArea MoSold  \n",
       "count         2919     2919   2919  \n",
       "unique         121       14     12  \n",
       "top              0        0      6  \n",
       "freq          2663     2906    503  \n",
       "\n",
       "[4 rows x 45 columns]"
      ]
     },
     "execution_count": 229,
     "metadata": {},
     "output_type": "execute_result"
    }
   ],
   "source": [
    "df.describe()"
   ]
  },
  {
   "cell_type": "markdown",
   "id": "geological-explorer",
   "metadata": {},
   "source": [
    "# Initial Guess\n",
    "From above informaiton, we found some features  have an high correlation with our main variable SalePrice:\n",
    "\n",
    "* Year Built\n",
    "* TotalBsmtSF\n",
    "* GrLivArea\n",
    "* PoolArea\n",
    "\n",
    "These are variables related to the conditions of the building, its age and some \"extra luxury\" features such as PoolArea. In principle they are all characteristics which can rise the price of an abitation. Another theory we suggested was to consider mainly the \"inner\" part of the house, such as KitchenQual or CentralAir, but these could be too general features which mainly all the houses can have.\n",
    "\n",
    "Now, with these prior hypotesis, let's dive into the \"SalePrice\" analysis."
   ]
  },
  {
   "cell_type": "markdown",
   "id": "meaning-alaska",
   "metadata": {},
   "source": [
    "## [Skewness & Kurtosis](http://www.pinzhi.org/forum.php?mod=viewthread&tid=4095)\n",
    "[Useful link](https://www.cnblogs.com/wyy1480/p/10474046.html)  \n",
    "Kurtosis coeff: The extent of steepness. 0 means as steep as Normal distributiom, >0 means is extra steeper(leptokurtic, can determine an higher probability of outliers values. ), vice versa for <0.  \n",
    "<br>\n",
    "Skewness coeff: To measure the data set is skew to right or left. 0 means not skew just as Normal distrubition, >0 skew to right(longtail on the right, more outlier on the right ) ,vice versa for <0\n"
   ]
  },
  {
   "cell_type": "code",
   "execution_count": 181,
   "id": "driven-perth",
   "metadata": {},
   "outputs": [
    {
     "name": "stdout",
     "output_type": "stream",
     "text": [
      "Skewness coeff. is: 1.8828757597682129\n",
      "Kurtosis coeff. is: 6.536281860064529\n"
     ]
    },
    {
     "data": {
      "image/png": "[encoded data removed]",
      "text/plain": [
       "<Figure size 360x360 with 1 Axes>"
      ]
     },
     "metadata": {
      "needs_background": "light"
     },
     "output_type": "display_data"
    }
   ],
   "source": [
    "sns.displot(train_data['SalePrice'])\n",
    "print(\"Skewness coeff. is: {}\".format(train_data['SalePrice'].skew()))\n",
    "print(\"Kurtosis coeff. is: {}\".format(train_data['SalePrice'].kurt()))"
   ]
  },
  {
   "cell_type": "markdown",
   "id": "sublime-appendix",
   "metadata": {},
   "source": [
    "Our distribution is highly skewed and present a longer tail on the right. The high value of kurtosis can determine an higher probability of outliers values."
   ]
  },
  {
   "cell_type": "markdown",
   "id": "beginning-casting",
   "metadata": {},
   "source": [
    "## Sale Price Analysis on YearBuilt\n",
    "\n"
   ]
  },
  {
   "cell_type": "code",
   "execution_count": 183,
   "id": "center-reference",
   "metadata": {},
   "outputs": [
    {
     "data": {
      "text/plain": [
       "<AxesSubplot:xlabel='YearBuilt', ylabel='SalePrice'>"
      ]
     },
     "execution_count": 183,
     "metadata": {},
     "output_type": "execute_result"
    },
    {
     "data": {
      "image/png": "[encoded data removed]",
      "text/plain": [
       "<Figure size 432x288 with 1 Axes>"
      ]
     },
     "metadata": {
      "needs_background": "light"
     },
     "output_type": "display_data"
    }
   ],
   "source": [
    "data_year_trend = pd.concat([train_data['SalePrice'], train_data['YearBuilt']], axis=1)\n",
    "data_year_trend.plot.scatter(x='YearBuilt', y='SalePrice', ylim=(0,800000))"
   ]
  },
  {
   "cell_type": "markdown",
   "id": "legislative-fusion",
   "metadata": {},
   "source": [
    "## Sale Price Analysis on YearBuilt\n"
   ]
  },
  {
   "cell_type": "code",
   "execution_count": 184,
   "id": "noted-incentive",
   "metadata": {},
   "outputs": [
    {
     "data": {
      "text/plain": [
       "<AxesSubplot:xlabel='TotalBsmtSF', ylabel='SalePrice'>"
      ]
     },
     "execution_count": 184,
     "metadata": {},
     "output_type": "execute_result"
    },
    {
     "data": {
      "image/png": "[encoded data removed]",
      "text/plain": [
       "<Figure size 432x288 with 1 Axes>"
      ]
     },
     "metadata": {
      "needs_background": "light"
     },
     "output_type": "display_data"
    }
   ],
   "source": [
    "data_bsmt_trend = pd.concat([train_data['SalePrice'], train_data['TotalBsmtSF']],axis = 1)\n",
    "data_bsmt_trend.plot.scatter(x='TotalBsmtSF', y='SalePrice')"
   ]
  },
  {
   "cell_type": "markdown",
   "id": "false-broadway",
   "metadata": {},
   "source": [
    "## Sale Price Analysis on PoolArea\n"
   ]
  },
  {
   "cell_type": "code",
   "execution_count": 185,
   "id": "present-knife",
   "metadata": {},
   "outputs": [
    {
     "data": {
      "image/png": "[encoded data removed]",
      "text/plain": [
       "<Figure size 432x288 with 1 Axes>"
      ]
     },
     "metadata": {
      "needs_background": "light"
     },
     "output_type": "display_data"
    }
   ],
   "source": [
    "data_PoolArea_trend = pd.concat([train_data['SalePrice'], train_data['PoolArea']], axis=1)\n",
    "data_PoolArea_trend.plot.scatter(x='PoolArea', y='SalePrice', ylim=(0,800000));"
   ]
  },
  {
   "cell_type": "markdown",
   "id": "solar-inflation",
   "metadata": {},
   "source": [
    "## saleprice analysis on QverallQual\n",
    "\n"
   ]
  },
  {
   "cell_type": "code",
   "execution_count": 187,
   "id": "floppy-proposal",
   "metadata": {},
   "outputs": [
    {
     "data": {
      "image/png": "[encoded data removed]",
      "text/plain": [
       "<Figure size 432x288 with 1 Axes>"
      ]
     },
     "metadata": {
      "needs_background": "light"
     },
     "output_type": "display_data"
    }
   ],
   "source": [
    "data_overQ = pd.concat([train_data['SalePrice'], train_data['OverallQual']], axis = 1)\n",
    "fig = sns.boxplot(x='OverallQual', y='SalePrice', data = data_overQ)\n"
   ]
  },
  {
   "cell_type": "markdown",
   "id": "caroline-pricing",
   "metadata": {},
   "source": [
    "## Conclusion\n",
    "By these analysis\n",
    "\n",
    "we discovered that our previsions were quite correct.\n",
    "\n",
    "Year Built seems to have a slight relation with our main variable, and people, as we thought, tend to buy newer houses.\n",
    "\n",
    "Instead, for TotalBsmtSF and GrLivArea there seems be a stronger relation with SalePrice."
   ]
  },
  {
   "cell_type": "markdown",
   "id": "opened-bobby",
   "metadata": {},
   "source": [
    "# Outliers\n"
   ]
  },
  {
   "cell_type": "code",
   "execution_count": 303,
   "id": "enclosed-baker",
   "metadata": {},
   "outputs": [],
   "source": [
    "backup_df = df"
   ]
  },
  {
   "cell_type": "code",
   "execution_count": 304,
   "id": "rational-usage",
   "metadata": {},
   "outputs": [
    {
     "data": {
      "text/plain": [
       "(2919, 45)"
      ]
     },
     "execution_count": 304,
     "metadata": {},
     "output_type": "execute_result"
    }
   ],
   "source": [
    "backup_df.shape"
   ]
  },
  {
   "cell_type": "code",
   "execution_count": 316,
   "id": "graduate-agenda",
   "metadata": {},
   "outputs": [],
   "source": [
    "#Here we extract the numerical variables, this will come in handy later on\n",
    "# df.select_dtypes(include = [\"number\"]).columns\n",
    "# n_features = df.select_dtypes(exclude = [\"object\"]).columns\n",
    "d_col = set(df.columns)\n",
    "n_features  = d_col.intersection(num_col)\n"
   ]
  },
  {
   "cell_type": "code",
   "execution_count": 317,
   "id": "multiple-snowboard",
   "metadata": {},
   "outputs": [
    {
     "data": {
      "text/plain": [
       "{'1stFlrSF',\n",
       " '2ndFlrSF',\n",
       " 'BedroomAbvGr',\n",
       " 'BsmtFinSF1',\n",
       " 'BsmtFinSF2',\n",
       " 'BsmtFullBath',\n",
       " 'BsmtHalfBath',\n",
       " 'EnclosedPorch',\n",
       " 'Fireplaces',\n",
       " 'FullBath',\n",
       " 'GarageCars',\n",
       " 'GrLivArea',\n",
       " 'HalfBath',\n",
       " 'KitchenAbvGr',\n",
       " 'LotArea',\n",
       " 'LowQualFinSF',\n",
       " 'MSSubClass',\n",
       " 'MasVnrArea',\n",
       " 'MoSold',\n",
       " 'OpenPorchSF',\n",
       " 'OverallCond',\n",
       " 'OverallQual',\n",
       " 'PoolArea',\n",
       " 'ScreenPorch',\n",
       " 'TotRmsAbvGrd',\n",
       " 'TotalBsmtSF',\n",
       " 'WoodDeckSF',\n",
       " 'YearBuilt',\n",
       " 'YearRemodAdd'}"
      ]
     },
     "execution_count": 317,
     "metadata": {},
     "output_type": "execute_result"
    }
   ],
   "source": [
    "n_features"
   ]
  },
  {
   "cell_type": "code",
   "execution_count": 310,
   "id": "equipped-wright",
   "metadata": {
    "code_folding": []
   },
   "outputs": [],
   "source": [
    "def mod_check_outlier(df):\n",
    "    # num_col : numeric column for all raw data\n",
    "    d_col = set(df.columns)\n",
    "    columns = d_col.intersection(num_col)\n",
    "    \n",
    "    for col in columns:\n",
    "        q1 = df[col].quantile(0.25)\n",
    "        q3 = df[col].quantile(0.75)\n",
    "        iqr = q3 - q1\n",
    "        lower_bound = q1 - (1.5 * iqr)\n",
    "        higher_bound = q3 + (1.5 * iqr)\n",
    "        l_outlier, h_outlier = 0 ,0\n",
    "        print(col,':',higher_bound, lower_bound)\n",
    "        for i in range(len(df[col])):\n",
    "            if df[col][i] < lower_bound:\n",
    "#                 df[col][i] = lower_bound\n",
    "                l_outlier +=1\n",
    "            \n",
    "            if df[col][i] > higher_bound:\n",
    "#                 df[col][i] = higher_bound\n",
    "                h_outlier +=1\n",
    "        print(l_outlier,h_outlier)\n",
    "#         for col in columns:\n",
    "#             df1[col] = df[col]\n",
    "            \n",
    "#     return(df1)\n",
    "    \n",
    "    "
   ]
  },
  {
   "cell_type": "code",
   "execution_count": 312,
   "id": "usual-robinson",
   "metadata": {},
   "outputs": [],
   "source": [
    "def mod_outlier(df):\n",
    "    df1 = df.copy()\n",
    "    d_col = set(df.columns)\n",
    "    columns = d_col.intersection(num_col)\n",
    "    \n",
    "    for col in columns:\n",
    "        q1 = df[col].quantile(0.25)\n",
    "        q3 = df[col].quantile(0.75)\n",
    "        iqr = q3 - q1\n",
    "        lower_bound = q1 - (1.5 * iqr)\n",
    "        higher_bound = q3 + (1.5 * iqr)\n",
    "        l_outlier, h_outlier = 0 ,0\n",
    "        print(col,':',higher_bound, lower_bound)\n",
    "        for i in range(len(df[col])):\n",
    "            if df[col][i] < lower_bound:\n",
    "                df[col][i] = lower_bound\n",
    "                l_outlier +=1\n",
    "            \n",
    "            if df[col][i] > higher_bound:\n",
    "                df[col][i] = higher_bound\n",
    "                h_outlier +=1\n",
    "        print(l_outlier,h_outlier)\n",
    "        \n",
    "    for col in columns:\n",
    "        df1[col] = df[col]\n",
    "    return df1\n"
   ]
  },
  {
   "cell_type": "code",
   "execution_count": 313,
   "id": "united-unknown",
   "metadata": {},
   "outputs": [
    {
     "name": "stdout",
     "output_type": "stream",
     "text": [
      "BedroomAbvGr : 4.5 0.5\n",
      "8 70\n",
      "HalfBath : 2.5 -1.5\n",
      "0 0\n",
      "KitchenAbvGr : 1.0 1.0\n",
      "3 131\n",
      "1stFlrSF : 2154.75 108.75\n",
      "0 42\n",
      "MasVnrArea : 408.75 -245.25\n",
      "0 202\n",
      "TotalBsmtSF : 2065.5 29.5\n",
      "78 44\n",
      "LowQualFinSF : 0.0 0.0\n",
      "0 40\n",
      "MoSold : 14.0 -2.0\n",
      "0 0\n",
      "ScreenPorch : 0.0 0.0\n",
      "0 256\n",
      "YearRemodAdd : 2062.5 1906.5\n",
      "0 0\n",
      "2ndFlrSF : 1760.0 -1056.0\n",
      "0 8\n",
      "BsmtFinSF1 : 1832.5 -1099.5\n",
      "0 15\n",
      "BsmtHalfBath : 0.0 0.0\n",
      "0 177\n",
      "GrLivArea : 2669.75 199.75\n",
      "0 74\n",
      "MSSubClass : 145.0 -55.0\n",
      "0 207\n",
      "BsmtFullBath : 2.5 -1.5\n",
      "0 2\n",
      "Fireplaces : 2.5 -1.5\n",
      "0 12\n",
      "LotArea : 17708.0 1340.0\n",
      "1 127\n",
      "PoolArea : 0.0 0.0\n",
      "0 13\n",
      "OpenPorchSF : 175.0 -105.0\n",
      "0 159\n",
      "TotRmsAbvGrd : 10.0 2.0\n",
      "0 51\n",
      "OverallQual : 10.0 2.0\n",
      "4 0\n",
      "EnclosedPorch : 0.0 0.0\n",
      "0 459\n",
      "OverallCond : 7.5 3.5\n",
      "67 185\n",
      "GarageCars : 3.5 -0.5\n",
      "0 17\n",
      "WoodDeckSF : 420.0 -252.0\n",
      "0 67\n",
      "FullBath : 3.5 -0.5\n",
      "0 4\n",
      "BsmtFinSF2 : 0.0 0.0\n",
      "0 348\n",
      "YearBuilt : 2072.25 1882.25\n",
      "9 0\n"
     ]
    }
   ],
   "source": [
    "# mod_check_outlier(df)\n",
    "df = mod_outlier(df)"
   ]
  },
  {
   "cell_type": "code",
   "execution_count": 315,
   "id": "plastic-kernel",
   "metadata": {},
   "outputs": [
    {
     "name": "stdout",
     "output_type": "stream",
     "text": [
      "4.5\n",
      "0.5\n"
     ]
    }
   ],
   "source": [
    "print(df['BedroomAbvGr'].max())\n",
    "print(df['BedroomAbvGr'].min())"
   ]
  },
  {
   "cell_type": "code",
   "execution_count": 320,
   "id": "extra-illustration",
   "metadata": {},
   "outputs": [
    {
     "data": {
      "image/png": "[encoded data removed]",
      "text/plain": [
       "<Figure size 432x288 with 1 Axes>"
      ]
     },
     "metadata": {
      "needs_background": "light"
     },
     "output_type": "display_data"
    },
    {
     "data": {
      "image/png": "[encoded data removed]",
      "text/plain": [
       "<Figure size 432x288 with 1 Axes>"
      ]
     },
     "metadata": {
      "needs_background": "light"
     },
     "output_type": "display_data"
    },
    {
     "data": {
      "image/png": "[encoded data removed]",
      "text/plain": [
       "<Figure size 432x288 with 1 Axes>"
      ]
     },
     "metadata": {
      "needs_background": "light"
     },
     "output_type": "display_data"
    },
    {
     "data": {
      "image/png": "[encoded data removed]",
      "text/plain": [
       "<Figure size 432x288 with 1 Axes>"
      ]
     },
     "metadata": {
      "needs_background": "light"
     },
     "output_type": "display_data"
    },
    {
     "data": {
      "image/png": "[encoded data removed]",
      "text/plain": [
       "<Figure size 432x288 with 1 Axes>"
      ]
     },
     "metadata": {
      "needs_background": "light"
     },
     "output_type": "display_data"
    },
    {
     "data": {
      "image/png": "[encoded data removed]",
      "text/plain": [
       "<Figure size 432x288 with 1 Axes>"
      ]
     },
     "metadata": {
      "needs_background": "light"
     },
     "output_type": "display_data"
    },
    {
     "data": {
      "image/png": "[encoded data removed]",
      "text/plain": [
       "<Figure size 432x288 with 1 Axes>"
      ]
     },
     "metadata": {
      "needs_background": "light"
     },
     "output_type": "display_data"
    },
    {
     "data": {
      "image/png": "[encoded data removed]",
      "text/plain": [
       "<Figure size 432x288 with 1 Axes>"
      ]
     },
     "metadata": {
      "needs_background": "light"
     },
     "output_type": "display_data"
    },
    {
     "data": {
      "image/png": "[encoded data removed]",
      "text/plain": [
       "<Figure size 432x288 with 1 Axes>"
      ]
     },
     "metadata": {
      "needs_background": "light"
     },
     "output_type": "display_data"
    },
    {
     "data": {
      "image/png": "[encoded data removed]",
      "text/plain": [
       "<Figure size 432x288 with 1 Axes>"
      ]
     },
     "metadata": {
      "needs_background": "light"
     },
     "output_type": "display_data"
    },
    {
     "data": {
      "image/png": "[encoded data removed]",
      "text/plain": [
       "<Figure size 432x288 with 1 Axes>"
      ]
     },
     "metadata": {
      "needs_background": "light"
     },
     "output_type": "display_data"
    },
    {
     "data": {
      "image/png": "[encoded data removed]",
      "text/plain": [
       "<Figure size 432x288 with 1 Axes>"
      ]
     },
     "metadata": {
      "needs_background": "light"
     },
     "output_type": "display_data"
    },
    {
     "data": {
      "image/png": "[encoded data removed]",
      "text/plain": [
       "<Figure size 432x288 with 1 Axes>"
      ]
     },
     "metadata": {
      "needs_background": "light"
     },
     "output_type": "display_data"
    },
    {
     "data": {
      "image/png": "[encoded data removed]",
      "text/plain": [
       "<Figure size 432x288 with 1 Axes>"
      ]
     },
     "metadata": {
      "needs_background": "light"
     },
     "output_type": "display_data"
    },
    {
     "data": {
      "image/png": "[encoded data removed]",
      "text/plain": [
       "<Figure size 432x288 with 1 Axes>"
      ]
     },
     "metadata": {
      "needs_background": "light"
     },
     "output_type": "display_data"
    },
    {
     "data": {
      "image/png": "[encoded data removed]",
      "text/plain": [
       "<Figure size 432x288 with 1 Axes>"
      ]
     },
     "metadata": {
      "needs_background": "light"
     },
     "output_type": "display_data"
    },
    {
     "data": {
      "image/png": "[encoded data removed]",
      "text/plain": [
       "<Figure size 432x288 with 1 Axes>"
      ]
     },
     "metadata": {
      "needs_background": "light"
     },
     "output_type": "display_data"
    },
    {
     "data": {
      "image/png": "[encoded data removed]",
      "text/plain": [
       "<Figure size 432x288 with 1 Axes>"
      ]
     },
     "metadata": {
      "needs_background": "light"
     },
     "output_type": "display_data"
    },
    {
     "data": {
      "image/png": "[encoded data removed]",
      "text/plain": [
       "<Figure size 432x288 with 1 Axes>"
      ]
     },
     "metadata": {
      "needs_background": "light"
     },
     "output_type": "display_data"
    },
    {
     "data": {
      "image/png": "[encoded data removed]",
      "text/plain": [
       "<Figure size 432x288 with 1 Axes>"
      ]
     },
     "metadata": {
      "needs_background": "light"
     },
     "output_type": "display_data"
    },
    {
     "data": {
      "image/png": "[encoded data removed]",
      "text/plain": [
       "<Figure size 432x288 with 1 Axes>"
      ]
     },
     "metadata": {
      "needs_background": "light"
     },
     "output_type": "display_data"
    },
    {
     "data": {
      "image/png": "[encoded data removed]",
      "text/plain": [
       "<Figure size 432x288 with 1 Axes>"
      ]
     },
     "metadata": {
      "needs_background": "light"
     },
     "output_type": "display_data"
    },
    {
     "data": {
      "image/png": "[encoded data removed]",
      "text/plain": [
       "<Figure size 432x288 with 1 Axes>"
      ]
     },
     "metadata": {
      "needs_background": "light"
     },
     "output_type": "display_data"
    },
    {
     "data": {
      "image/png": "[encoded data removed]",
      "text/plain": [
       "<Figure size 432x288 with 1 Axes>"
      ]
     },
     "metadata": {
      "needs_background": "light"
     },
     "output_type": "display_data"
    },
    {
     "data": {
      "image/png": "[encoded data removed]",
      "text/plain": [
       "<Figure size 432x288 with 1 Axes>"
      ]
     },
     "metadata": {
      "needs_background": "light"
     },
     "output_type": "display_data"
    },
    {
     "data": {
      "image/png": "[encoded data removed]",
      "text/plain": [
       "<Figure size 432x288 with 1 Axes>"
      ]
     },
     "metadata": {
      "needs_background": "light"
     },
     "output_type": "display_data"
    },
    {
     "data": {
      "image/png": "[encoded data removed]",
      "text/plain": [
       "<Figure size 432x288 with 1 Axes>"
      ]
     },
     "metadata": {
      "needs_background": "light"
     },
     "output_type": "display_data"
    },
    {
     "data": {
      "image/png": "[encoded data removed]",
      "text/plain": [
       "<Figure size 432x288 with 1 Axes>"
      ]
     },
     "metadata": {
      "needs_background": "light"
     },
     "output_type": "display_data"
    },
    {
     "data": {
      "image/png": "[encoded data removed]",
      "text/plain": [
       "<Figure size 432x288 with 1 Axes>"
      ]
     },
     "metadata": {
      "needs_background": "light"
     },
     "output_type": "display_data"
    }
   ],
   "source": [
    "for i in n_features:\n",
    "    sns.boxplot(x=df[i])\n",
    "    plt.show()"
   ]
  },
  {
   "cell_type": "markdown",
   "id": "proved-member",
   "metadata": {},
   "source": [
    "# Model building"
   ]
  },
  {
   "cell_type": "markdown",
   "id": "juvenile-damages",
   "metadata": {},
   "source": [
    "## here we use one hot encoading to encoad cat_features\n",
    "[pd.get_dummies(df)  usage](https://blog.csdn.net/BigData_Mining/article/details/104105384)\n"
   ]
  },
  {
   "cell_type": "code",
   "execution_count": 322,
   "id": "subject-perfume",
   "metadata": {},
   "outputs": [
    {
     "data": {
      "text/plain": [
       "(2919, 7856)"
      ]
     },
     "execution_count": 322,
     "metadata": {},
     "output_type": "execute_result"
    }
   ],
   "source": [
    "X = pd.get_dummies(df)\n",
    "X.shape\n",
    "# X"
   ]
  },
  {
   "cell_type": "markdown",
   "id": "stone-third",
   "metadata": {},
   "source": [
    "## here we use minmax scaler for scaling numeric fields\n",
    "[MinMaxScaler usage](https://blog.csdn.net/weixin_40683253/article/details/81508321)  \n",
    "MinMaxScaler：normalize to [ 0，1 ] \n",
    "<br>\n",
    "MaxAbsScaler：normalize to[ -1，1 ] "
   ]
  },
  {
   "cell_type": "code",
   "execution_count": 324,
   "id": "suspected-custom",
   "metadata": {},
   "outputs": [],
   "source": [
    "# set scaler\n",
    "scalerX = MinMaxScaler(feature_range=(0, 1))\n",
    "# update X[X.columns]\n",
    "X[X.columns] = scalerX.fit_transform(X[X.columns])"
   ]
  },
  {
   "cell_type": "code",
   "execution_count": 326,
   "id": "exterior-magazine",
   "metadata": {},
   "outputs": [
    {
     "data": {
      "text/plain": [
       "(1460, 7856)"
      ]
     },
     "execution_count": 326,
     "metadata": {},
     "output_type": "execute_result"
    }
   ],
   "source": [
    "#Training data after preproscing\n",
    "\n",
    "Train_data=X.loc[\"x\"]\n",
    "Train_data.shape"
   ]
  },
  {
   "cell_type": "code",
   "execution_count": 327,
   "id": "executive-withdrawal",
   "metadata": {},
   "outputs": [
    {
     "data": {
      "text/plain": [
       "(1459, 7856)"
      ]
     },
     "execution_count": 327,
     "metadata": {},
     "output_type": "execute_result"
    }
   ],
   "source": [
    "#Testing data after preproscing\n",
    "Test_data=X.loc[\"y\"]\n",
    "Test_data.shape"
   ]
  },
  {
   "cell_type": "code",
   "execution_count": 328,
   "id": "fourth-nitrogen",
   "metadata": {},
   "outputs": [
    {
     "data": {
      "text/html": [
       "<div>\n",
       "<style scoped>\n",
       "    .dataframe tbody tr th:only-of-type {\n",
       "        vertical-align: middle;\n",
       "    }\n",
       "\n",
       "    .dataframe tbody tr th {\n",
       "        vertical-align: top;\n",
       "    }\n",
       "\n",
       "    .dataframe thead th {\n",
       "        text-align: right;\n",
       "    }\n",
       "</style>\n",
       "<table border=\"1\" class=\"dataframe\">\n",
       "  <thead>\n",
       "    <tr style=\"text-align: right;\">\n",
       "      <th></th>\n",
       "      <th>MSSubClass_20.0</th>\n",
       "      <th>MSSubClass_30.0</th>\n",
       "      <th>SalePrice</th>\n",
       "      <th>MSSubClass_40.0</th>\n",
       "      <th>MSSubClass_45.0</th>\n",
       "      <th>MSSubClass_50.0</th>\n",
       "      <th>MSSubClass_60.0</th>\n",
       "      <th>MSSubClass_70.0</th>\n",
       "      <th>MSSubClass_75.0</th>\n",
       "      <th>MSSubClass_80.0</th>\n",
       "      <th>...</th>\n",
       "      <th>MoSold_3</th>\n",
       "      <th>MoSold_4</th>\n",
       "      <th>MoSold_5</th>\n",
       "      <th>MoSold_6</th>\n",
       "      <th>MoSold_7</th>\n",
       "      <th>MoSold_8</th>\n",
       "      <th>MoSold_9</th>\n",
       "      <th>MoSold_10</th>\n",
       "      <th>MoSold_11</th>\n",
       "      <th>MoSold_12</th>\n",
       "    </tr>\n",
       "  </thead>\n",
       "  <tbody>\n",
       "    <tr>\n",
       "      <th>0</th>\n",
       "      <td>0.0</td>\n",
       "      <td>0.0</td>\n",
       "      <td>208500</td>\n",
       "      <td>0.0</td>\n",
       "      <td>0.0</td>\n",
       "      <td>0.0</td>\n",
       "      <td>1.0</td>\n",
       "      <td>0.0</td>\n",
       "      <td>0.0</td>\n",
       "      <td>0.0</td>\n",
       "      <td>...</td>\n",
       "      <td>0.0</td>\n",
       "      <td>0.0</td>\n",
       "      <td>0.0</td>\n",
       "      <td>0.0</td>\n",
       "      <td>0.0</td>\n",
       "      <td>0.0</td>\n",
       "      <td>0.0</td>\n",
       "      <td>0.0</td>\n",
       "      <td>0.0</td>\n",
       "      <td>0.0</td>\n",
       "    </tr>\n",
       "    <tr>\n",
       "      <th>1</th>\n",
       "      <td>1.0</td>\n",
       "      <td>0.0</td>\n",
       "      <td>181500</td>\n",
       "      <td>0.0</td>\n",
       "      <td>0.0</td>\n",
       "      <td>0.0</td>\n",
       "      <td>0.0</td>\n",
       "      <td>0.0</td>\n",
       "      <td>0.0</td>\n",
       "      <td>0.0</td>\n",
       "      <td>...</td>\n",
       "      <td>0.0</td>\n",
       "      <td>0.0</td>\n",
       "      <td>1.0</td>\n",
       "      <td>0.0</td>\n",
       "      <td>0.0</td>\n",
       "      <td>0.0</td>\n",
       "      <td>0.0</td>\n",
       "      <td>0.0</td>\n",
       "      <td>0.0</td>\n",
       "      <td>0.0</td>\n",
       "    </tr>\n",
       "    <tr>\n",
       "      <th>2</th>\n",
       "      <td>0.0</td>\n",
       "      <td>0.0</td>\n",
       "      <td>223500</td>\n",
       "      <td>0.0</td>\n",
       "      <td>0.0</td>\n",
       "      <td>0.0</td>\n",
       "      <td>1.0</td>\n",
       "      <td>0.0</td>\n",
       "      <td>0.0</td>\n",
       "      <td>0.0</td>\n",
       "      <td>...</td>\n",
       "      <td>0.0</td>\n",
       "      <td>0.0</td>\n",
       "      <td>0.0</td>\n",
       "      <td>0.0</td>\n",
       "      <td>0.0</td>\n",
       "      <td>0.0</td>\n",
       "      <td>1.0</td>\n",
       "      <td>0.0</td>\n",
       "      <td>0.0</td>\n",
       "      <td>0.0</td>\n",
       "    </tr>\n",
       "    <tr>\n",
       "      <th>3</th>\n",
       "      <td>0.0</td>\n",
       "      <td>0.0</td>\n",
       "      <td>140000</td>\n",
       "      <td>0.0</td>\n",
       "      <td>0.0</td>\n",
       "      <td>0.0</td>\n",
       "      <td>0.0</td>\n",
       "      <td>1.0</td>\n",
       "      <td>0.0</td>\n",
       "      <td>0.0</td>\n",
       "      <td>...</td>\n",
       "      <td>0.0</td>\n",
       "      <td>0.0</td>\n",
       "      <td>0.0</td>\n",
       "      <td>0.0</td>\n",
       "      <td>0.0</td>\n",
       "      <td>0.0</td>\n",
       "      <td>0.0</td>\n",
       "      <td>0.0</td>\n",
       "      <td>0.0</td>\n",
       "      <td>0.0</td>\n",
       "    </tr>\n",
       "    <tr>\n",
       "      <th>4</th>\n",
       "      <td>0.0</td>\n",
       "      <td>0.0</td>\n",
       "      <td>250000</td>\n",
       "      <td>0.0</td>\n",
       "      <td>0.0</td>\n",
       "      <td>0.0</td>\n",
       "      <td>1.0</td>\n",
       "      <td>0.0</td>\n",
       "      <td>0.0</td>\n",
       "      <td>0.0</td>\n",
       "      <td>...</td>\n",
       "      <td>0.0</td>\n",
       "      <td>0.0</td>\n",
       "      <td>0.0</td>\n",
       "      <td>0.0</td>\n",
       "      <td>0.0</td>\n",
       "      <td>0.0</td>\n",
       "      <td>0.0</td>\n",
       "      <td>0.0</td>\n",
       "      <td>0.0</td>\n",
       "      <td>1.0</td>\n",
       "    </tr>\n",
       "  </tbody>\n",
       "</table>\n",
       "<p>5 rows × 7857 columns</p>\n",
       "</div>"
      ],
      "text/plain": [
       "   MSSubClass_20.0  MSSubClass_30.0  SalePrice  MSSubClass_40.0  \\\n",
       "0              0.0              0.0     208500              0.0   \n",
       "1              1.0              0.0     181500              0.0   \n",
       "2              0.0              0.0     223500              0.0   \n",
       "3              0.0              0.0     140000              0.0   \n",
       "4              0.0              0.0     250000              0.0   \n",
       "\n",
       "   MSSubClass_45.0  MSSubClass_50.0  MSSubClass_60.0  MSSubClass_70.0  \\\n",
       "0              0.0              0.0              1.0              0.0   \n",
       "1              0.0              0.0              0.0              0.0   \n",
       "2              0.0              0.0              1.0              0.0   \n",
       "3              0.0              0.0              0.0              1.0   \n",
       "4              0.0              0.0              1.0              0.0   \n",
       "\n",
       "   MSSubClass_75.0  MSSubClass_80.0  ...  MoSold_3  MoSold_4  MoSold_5  \\\n",
       "0              0.0              0.0  ...       0.0       0.0       0.0   \n",
       "1              0.0              0.0  ...       0.0       0.0       1.0   \n",
       "2              0.0              0.0  ...       0.0       0.0       0.0   \n",
       "3              0.0              0.0  ...       0.0       0.0       0.0   \n",
       "4              0.0              0.0  ...       0.0       0.0       0.0   \n",
       "\n",
       "   MoSold_6  MoSold_7  MoSold_8  MoSold_9  MoSold_10  MoSold_11  MoSold_12  \n",
       "0       0.0       0.0       0.0       0.0        0.0        0.0        0.0  \n",
       "1       0.0       0.0       0.0       0.0        0.0        0.0        0.0  \n",
       "2       0.0       0.0       0.0       1.0        0.0        0.0        0.0  \n",
       "3       0.0       0.0       0.0       0.0        0.0        0.0        0.0  \n",
       "4       0.0       0.0       0.0       0.0        0.0        0.0        1.0  \n",
       "\n",
       "[5 rows x 7857 columns]"
      ]
     },
     "execution_count": 328,
     "metadata": {},
     "output_type": "execute_result"
    }
   ],
   "source": [
    "#here we add salePrice column in traning data\n",
    "\n",
    "Train_data.insert(2,column=\"SalePrice\",value=Sale_Price)\n",
    "Train_data.head()"
   ]
  },
  {
   "cell_type": "markdown",
   "id": "revolutionary-welding",
   "metadata": {},
   "source": [
    "## here we split data in input(x) and output(y)"
   ]
  },
  {
   "cell_type": "code",
   "execution_count": 336,
   "id": "auburn-extreme",
   "metadata": {},
   "outputs": [],
   "source": [
    "x = Train_data.drop(['SalePrice'], axis = 1)\n",
    "y = Train_data['SalePrice']"
   ]
  },
  {
   "cell_type": "markdown",
   "id": "tutorial-celtic",
   "metadata": {},
   "source": [
    "## Model Building using train Data"
   ]
  },
  {
   "cell_type": "code",
   "execution_count": 338,
   "id": "stuffed-character",
   "metadata": {},
   "outputs": [],
   "source": [
    "from sklearn.model_selection import train_test_split\n",
    "x_train,x_test,y_train,y_test=train_test_split(x,y,test_size=.30,random_state=40)"
   ]
  },
  {
   "cell_type": "markdown",
   "id": "parliamentary-ethnic",
   "metadata": {},
   "source": [
    "## [KEY: mode.score usage](https://www.kaggle.com/getting-started/27261)\n",
    "you train one model logreg.train(X_train,Y_train)\n",
    "\n",
    "the resulting model does not explain the training data 100% well (that would probably be overfitting).\n",
    "\n",
    "if you use now the X_train to make predictions you will not get exactly Y_train, but Y_train', different somehow Y_train' = logreg.predict(X_train)\n",
    "\n",
    "logreg.score(X_train,Y_train) is calculating the difference between Y_train and Y_train' (an accuracy measure), but you did not need to explicitly calculate Y_train'. The library does this internally.\n",
    "\n",
    "If you try this (once the model trained with the train data):\n",
    "\n",
    "    Y_pred = logreg.predict(X_test)\n",
    "\n",
    "    logreg.score(X_test,Y_pred)\n",
    "this score will always give 1.0\n",
    "\n",
    "(because it compares Y_pred' (which the library calculates internally as Y_pred'= logreg.predict(X_test) ) with Y_pred; but Y_pred is also logreg.predict(X_test), because the code we wrote)"
   ]
  },
  {
   "cell_type": "markdown",
   "id": "regional-amplifier",
   "metadata": {},
   "source": [
    "## LinearRegression"
   ]
  },
  {
   "cell_type": "code",
   "execution_count": 345,
   "id": "tribal-morris",
   "metadata": {},
   "outputs": [
    {
     "name": "stdout",
     "output_type": "stream",
     "text": [
      "-1059204343604144.1\n"
     ]
    }
   ],
   "source": [
    "#Linear regression\n",
    "from sklearn.linear_model import LinearRegression\n",
    "model = LinearRegression()\n",
    "model.fit(x_train, y_train)\n",
    "\n",
    "# making prediction\n",
    "y_predict = model.predict(x_test)\n",
    "\n",
    "# Evaluating performance\n",
    "score = model.score(x_test, y_test)\n",
    "print(score)                         "
   ]
  },
  {
   "cell_type": "markdown",
   "id": "weighted-hampshire",
   "metadata": {},
   "source": [
    "## RandomForest"
   ]
  },
  {
   "cell_type": "code",
   "execution_count": 346,
   "id": "realistic-seller",
   "metadata": {},
   "outputs": [
    {
     "name": "stdout",
     "output_type": "stream",
     "text": [
      "0.8439178123657055\n"
     ]
    }
   ],
   "source": [
    "from sklearn.ensemble import RandomForestRegressor\n",
    "rfr = RandomForestRegressor(n_estimators = 70,random_state=40,\n",
    "                            min_impurity_decrease=0.002,min_weight_fraction_leaf=0.001,\n",
    "                            min_samples_split=5)\n",
    "\n",
    "rfr.fit(x_train,y_train)\n",
    "\n",
    "#here we can check our model score\n",
    "print(rfr.score(x_test,y_test))"
   ]
  },
  {
   "cell_type": "markdown",
   "id": "phantom-controversy",
   "metadata": {},
   "source": [
    "rmse = root mean square error"
   ]
  },
  {
   "cell_type": "code",
   "execution_count": 348,
   "id": "negative-bosnia",
   "metadata": {},
   "outputs": [
    {
     "name": "stdout",
     "output_type": "stream",
     "text": [
      "mear squares error : 28507.280537242244\n"
     ]
    }
   ],
   "source": [
    "y_predictrfr = rfr.predict(x_test)\n",
    "rmse = math.sqrt(mean_squared_error(y_test,y_predictrfr))\n",
    "print(\"mear squares error :\",rmse)"
   ]
  },
  {
   "cell_type": "markdown",
   "id": "viral-kennedy",
   "metadata": {},
   "source": [
    "## Decision Tree"
   ]
  },
  {
   "cell_type": "code",
   "execution_count": 349,
   "id": "liquid-burst",
   "metadata": {},
   "outputs": [
    {
     "name": "stdout",
     "output_type": "stream",
     "text": [
      "0.6080284927042221\n"
     ]
    }
   ],
   "source": [
    "from sklearn.tree import DecisionTreeRegressor\n",
    "dtr = DecisionTreeRegressor(random_state=100, min_samples_split=5,\n",
    "                            min_impurity_decrease=0.002,\n",
    "                            min_weight_fraction_leaf=0.001)\n",
    "dtr.fit(x_train,y_train)\n",
    "y_predictdtr = dtr.predict(x_test)\n",
    "\n",
    "#u can also use GridSearchCV / random Searchcv for hyperperameter tuning\n",
    "print(dtr.score(x_test,y_test))\n"
   ]
  },
  {
   "cell_type": "code",
   "execution_count": 350,
   "id": "elegant-ability",
   "metadata": {},
   "outputs": [
    {
     "name": "stdout",
     "output_type": "stream",
     "text": [
      "RMSE: 45175.853603074225\n"
     ]
    }
   ],
   "source": [
    "rmse = math.sqrt(mean_squared_error(y_test, dtr.predict(x_test)))\n",
    "print(\"RMSE:\",rmse)"
   ]
  },
  {
   "cell_type": "markdown",
   "id": "derived-three",
   "metadata": {},
   "source": [
    "## G Boosting"
   ]
  },
  {
   "cell_type": "code",
   "execution_count": 351,
   "id": "listed-genre",
   "metadata": {},
   "outputs": [
    {
     "name": "stdout",
     "output_type": "stream",
     "text": [
      "RMSE: 45175.8536\n"
     ]
    }
   ],
   "source": [
    "GBoost = GradientBoostingRegressor(n_estimators=5000, learning_rate=0.05,\n",
    "                                   max_depth=4, max_features='sqrt',\n",
    "                                   min_samples_leaf=15, min_samples_split=10, \n",
    "                                   loss='huber', random_state =5)\n",
    "#RMSE estimated through the partition of the train set\n",
    "GBoost.fit(x_train, y_train)\n",
    "\n",
    "print(\"RMSE: %.4f\" % rmse)"
   ]
  },
  {
   "cell_type": "code",
   "execution_count": 352,
   "id": "measured-contact",
   "metadata": {},
   "outputs": [
    {
     "name": "stdout",
     "output_type": "stream",
     "text": [
      "0.8886970793099955\n"
     ]
    }
   ],
   "source": [
    "y_predictGB = GBoost.predict(x_test)\n",
    "print(GBoost.score(x_test,y_test))"
   ]
  },
  {
   "cell_type": "code",
   "execution_count": 353,
   "id": "first-cannon",
   "metadata": {},
   "outputs": [
    {
     "data": {
      "image/png": "[encoded data removed]",
      "text/plain": [
       "<Figure size 432x288 with 1 Axes>"
      ]
     },
     "metadata": {
      "needs_background": "light"
     },
     "output_type": "display_data"
    }
   ],
   "source": [
    "import numpy as np\n",
    "red = plt.scatter(np.arange(0,80,5),y_predictGB[0:80:5],color = \"red\")\n",
    "green = plt.scatter(np.arange(0,80,5),y_predictrfr[0:80:5],color = \"green\")\n",
    "blue = plt.scatter(np.arange(0,80,5),y_predictdtr[0:80:5],color = \"blue\")\n",
    "black = plt.scatter(np.arange(0,80,5),y_test[0:80:5],color = \"black\")\n",
    "plt.title(\"Comparison of Regression Algorithms\")\n",
    "plt.xlabel(\"Index of Candidate\")\n",
    "plt.ylabel(\"Home Price\")\n",
    "plt.legend((red,green,blue,black),('GBoost', 'RFR', 'DTR', 'REAL'))\n",
    "plt.show()"
   ]
  },
  {
   "cell_type": "markdown",
   "id": "direct-blood",
   "metadata": {},
   "source": [
    "# Prediction On Testing Data¶\n"
   ]
  },
  {
   "cell_type": "code",
   "execution_count": 354,
   "id": "continental-sport",
   "metadata": {},
   "outputs": [
    {
     "data": {
      "text/html": [
       "<div>\n",
       "<style scoped>\n",
       "    .dataframe tbody tr th:only-of-type {\n",
       "        vertical-align: middle;\n",
       "    }\n",
       "\n",
       "    .dataframe tbody tr th {\n",
       "        vertical-align: top;\n",
       "    }\n",
       "\n",
       "    .dataframe thead th {\n",
       "        text-align: right;\n",
       "    }\n",
       "</style>\n",
       "<table border=\"1\" class=\"dataframe\">\n",
       "  <thead>\n",
       "    <tr style=\"text-align: right;\">\n",
       "      <th></th>\n",
       "      <th>MSSubClass_20.0</th>\n",
       "      <th>MSSubClass_30.0</th>\n",
       "      <th>MSSubClass_40.0</th>\n",
       "      <th>MSSubClass_45.0</th>\n",
       "      <th>MSSubClass_50.0</th>\n",
       "      <th>MSSubClass_60.0</th>\n",
       "      <th>MSSubClass_70.0</th>\n",
       "      <th>MSSubClass_75.0</th>\n",
       "      <th>MSSubClass_80.0</th>\n",
       "      <th>MSSubClass_85.0</th>\n",
       "      <th>...</th>\n",
       "      <th>MoSold_3</th>\n",
       "      <th>MoSold_4</th>\n",
       "      <th>MoSold_5</th>\n",
       "      <th>MoSold_6</th>\n",
       "      <th>MoSold_7</th>\n",
       "      <th>MoSold_8</th>\n",
       "      <th>MoSold_9</th>\n",
       "      <th>MoSold_10</th>\n",
       "      <th>MoSold_11</th>\n",
       "      <th>MoSold_12</th>\n",
       "    </tr>\n",
       "  </thead>\n",
       "  <tbody>\n",
       "    <tr>\n",
       "      <th>0</th>\n",
       "      <td>1.0</td>\n",
       "      <td>0.0</td>\n",
       "      <td>0.0</td>\n",
       "      <td>0.0</td>\n",
       "      <td>0.0</td>\n",
       "      <td>0.0</td>\n",
       "      <td>0.0</td>\n",
       "      <td>0.0</td>\n",
       "      <td>0.0</td>\n",
       "      <td>0.0</td>\n",
       "      <td>...</td>\n",
       "      <td>0.0</td>\n",
       "      <td>0.0</td>\n",
       "      <td>0.0</td>\n",
       "      <td>1.0</td>\n",
       "      <td>0.0</td>\n",
       "      <td>0.0</td>\n",
       "      <td>0.0</td>\n",
       "      <td>0.0</td>\n",
       "      <td>0.0</td>\n",
       "      <td>0.0</td>\n",
       "    </tr>\n",
       "    <tr>\n",
       "      <th>1</th>\n",
       "      <td>1.0</td>\n",
       "      <td>0.0</td>\n",
       "      <td>0.0</td>\n",
       "      <td>0.0</td>\n",
       "      <td>0.0</td>\n",
       "      <td>0.0</td>\n",
       "      <td>0.0</td>\n",
       "      <td>0.0</td>\n",
       "      <td>0.0</td>\n",
       "      <td>0.0</td>\n",
       "      <td>...</td>\n",
       "      <td>0.0</td>\n",
       "      <td>0.0</td>\n",
       "      <td>0.0</td>\n",
       "      <td>1.0</td>\n",
       "      <td>0.0</td>\n",
       "      <td>0.0</td>\n",
       "      <td>0.0</td>\n",
       "      <td>0.0</td>\n",
       "      <td>0.0</td>\n",
       "      <td>0.0</td>\n",
       "    </tr>\n",
       "    <tr>\n",
       "      <th>2</th>\n",
       "      <td>0.0</td>\n",
       "      <td>0.0</td>\n",
       "      <td>0.0</td>\n",
       "      <td>0.0</td>\n",
       "      <td>0.0</td>\n",
       "      <td>1.0</td>\n",
       "      <td>0.0</td>\n",
       "      <td>0.0</td>\n",
       "      <td>0.0</td>\n",
       "      <td>0.0</td>\n",
       "      <td>...</td>\n",
       "      <td>1.0</td>\n",
       "      <td>0.0</td>\n",
       "      <td>0.0</td>\n",
       "      <td>0.0</td>\n",
       "      <td>0.0</td>\n",
       "      <td>0.0</td>\n",
       "      <td>0.0</td>\n",
       "      <td>0.0</td>\n",
       "      <td>0.0</td>\n",
       "      <td>0.0</td>\n",
       "    </tr>\n",
       "    <tr>\n",
       "      <th>3</th>\n",
       "      <td>0.0</td>\n",
       "      <td>0.0</td>\n",
       "      <td>0.0</td>\n",
       "      <td>0.0</td>\n",
       "      <td>0.0</td>\n",
       "      <td>1.0</td>\n",
       "      <td>0.0</td>\n",
       "      <td>0.0</td>\n",
       "      <td>0.0</td>\n",
       "      <td>0.0</td>\n",
       "      <td>...</td>\n",
       "      <td>0.0</td>\n",
       "      <td>0.0</td>\n",
       "      <td>0.0</td>\n",
       "      <td>1.0</td>\n",
       "      <td>0.0</td>\n",
       "      <td>0.0</td>\n",
       "      <td>0.0</td>\n",
       "      <td>0.0</td>\n",
       "      <td>0.0</td>\n",
       "      <td>0.0</td>\n",
       "    </tr>\n",
       "    <tr>\n",
       "      <th>4</th>\n",
       "      <td>0.0</td>\n",
       "      <td>0.0</td>\n",
       "      <td>0.0</td>\n",
       "      <td>0.0</td>\n",
       "      <td>0.0</td>\n",
       "      <td>0.0</td>\n",
       "      <td>0.0</td>\n",
       "      <td>0.0</td>\n",
       "      <td>0.0</td>\n",
       "      <td>0.0</td>\n",
       "      <td>...</td>\n",
       "      <td>0.0</td>\n",
       "      <td>0.0</td>\n",
       "      <td>0.0</td>\n",
       "      <td>0.0</td>\n",
       "      <td>0.0</td>\n",
       "      <td>0.0</td>\n",
       "      <td>0.0</td>\n",
       "      <td>0.0</td>\n",
       "      <td>0.0</td>\n",
       "      <td>0.0</td>\n",
       "    </tr>\n",
       "  </tbody>\n",
       "</table>\n",
       "<p>5 rows × 7856 columns</p>\n",
       "</div>"
      ],
      "text/plain": [
       "   MSSubClass_20.0  MSSubClass_30.0  MSSubClass_40.0  MSSubClass_45.0  \\\n",
       "0              1.0              0.0              0.0              0.0   \n",
       "1              1.0              0.0              0.0              0.0   \n",
       "2              0.0              0.0              0.0              0.0   \n",
       "3              0.0              0.0              0.0              0.0   \n",
       "4              0.0              0.0              0.0              0.0   \n",
       "\n",
       "   MSSubClass_50.0  MSSubClass_60.0  MSSubClass_70.0  MSSubClass_75.0  \\\n",
       "0              0.0              0.0              0.0              0.0   \n",
       "1              0.0              0.0              0.0              0.0   \n",
       "2              0.0              1.0              0.0              0.0   \n",
       "3              0.0              1.0              0.0              0.0   \n",
       "4              0.0              0.0              0.0              0.0   \n",
       "\n",
       "   MSSubClass_80.0  MSSubClass_85.0  ...  MoSold_3  MoSold_4  MoSold_5  \\\n",
       "0              0.0              0.0  ...       0.0       0.0       0.0   \n",
       "1              0.0              0.0  ...       0.0       0.0       0.0   \n",
       "2              0.0              0.0  ...       1.0       0.0       0.0   \n",
       "3              0.0              0.0  ...       0.0       0.0       0.0   \n",
       "4              0.0              0.0  ...       0.0       0.0       0.0   \n",
       "\n",
       "   MoSold_6  MoSold_7  MoSold_8  MoSold_9  MoSold_10  MoSold_11  MoSold_12  \n",
       "0       1.0       0.0       0.0       0.0        0.0        0.0        0.0  \n",
       "1       1.0       0.0       0.0       0.0        0.0        0.0        0.0  \n",
       "2       0.0       0.0       0.0       0.0        0.0        0.0        0.0  \n",
       "3       1.0       0.0       0.0       0.0        0.0        0.0        0.0  \n",
       "4       0.0       0.0       0.0       0.0        0.0        0.0        0.0  \n",
       "\n",
       "[5 rows x 7856 columns]"
      ]
     },
     "execution_count": 354,
     "metadata": {},
     "output_type": "execute_result"
    }
   ],
   "source": [
    "#here we see test data here one column is missing that is Saleprice\n",
    "#bcoz that is need to predict\n",
    "Test_data.head()"
   ]
  },
  {
   "cell_type": "code",
   "execution_count": 355,
   "id": "massive-grounds",
   "metadata": {},
   "outputs": [
    {
     "data": {
      "text/plain": [
       "(1459, 7856)"
      ]
     },
     "execution_count": 355,
     "metadata": {},
     "output_type": "execute_result"
    }
   ],
   "source": [
    "Test_data.shape"
   ]
  },
  {
   "cell_type": "code",
   "execution_count": 356,
   "id": "atmospheric-nursing",
   "metadata": {},
   "outputs": [],
   "source": [
    "#here we predict SalePrice using RFR model\n",
    "y_model_prerfc = GBoost.predict(Test_data)"
   ]
  },
  {
   "cell_type": "code",
   "execution_count": 357,
   "id": "abroad-coupon",
   "metadata": {},
   "outputs": [
    {
     "data": {
      "text/plain": [
       "array([119797., 144945., 169607., ..., 186546., 111704., 234345.])"
      ]
     },
     "execution_count": 357,
     "metadata": {},
     "output_type": "execute_result"
    }
   ],
   "source": [
    "#Here we can See predict Sale Price\n",
    "y_model_prerfc=np.around(y_model_prerfc,0)\n",
    "y_model_prerfc"
   ]
  },
  {
   "cell_type": "code",
   "execution_count": 358,
   "id": "emotional-manner",
   "metadata": {},
   "outputs": [],
   "source": [
    "prediction = y_model_prerfc.tolist()"
   ]
  },
  {
   "cell_type": "code",
   "execution_count": 359,
   "id": "normal-infection",
   "metadata": {},
   "outputs": [
    {
     "data": {
      "text/html": [
       "<div>\n",
       "<style scoped>\n",
       "    .dataframe tbody tr th:only-of-type {\n",
       "        vertical-align: middle;\n",
       "    }\n",
       "\n",
       "    .dataframe tbody tr th {\n",
       "        vertical-align: top;\n",
       "    }\n",
       "\n",
       "    .dataframe thead th {\n",
       "        text-align: right;\n",
       "    }\n",
       "</style>\n",
       "<table border=\"1\" class=\"dataframe\">\n",
       "  <thead>\n",
       "    <tr style=\"text-align: right;\">\n",
       "      <th></th>\n",
       "      <th>Id</th>\n",
       "      <th>MSSubClass</th>\n",
       "      <th>MSZoning</th>\n",
       "      <th>LotFrontage</th>\n",
       "      <th>LotArea</th>\n",
       "      <th>Street</th>\n",
       "      <th>Alley</th>\n",
       "      <th>LotShape</th>\n",
       "      <th>LandContour</th>\n",
       "      <th>Utilities</th>\n",
       "      <th>...</th>\n",
       "      <th>ScreenPorch</th>\n",
       "      <th>PoolArea</th>\n",
       "      <th>PoolQC</th>\n",
       "      <th>Fence</th>\n",
       "      <th>MiscFeature</th>\n",
       "      <th>MiscVal</th>\n",
       "      <th>MoSold</th>\n",
       "      <th>YrSold</th>\n",
       "      <th>SaleType</th>\n",
       "      <th>SaleCondition</th>\n",
       "    </tr>\n",
       "  </thead>\n",
       "  <tbody>\n",
       "    <tr>\n",
       "      <th>0</th>\n",
       "      <td>1461</td>\n",
       "      <td>20</td>\n",
       "      <td>RH</td>\n",
       "      <td>80.0</td>\n",
       "      <td>11622</td>\n",
       "      <td>Pave</td>\n",
       "      <td>NaN</td>\n",
       "      <td>Reg</td>\n",
       "      <td>Lvl</td>\n",
       "      <td>AllPub</td>\n",
       "      <td>...</td>\n",
       "      <td>120</td>\n",
       "      <td>0</td>\n",
       "      <td>NaN</td>\n",
       "      <td>MnPrv</td>\n",
       "      <td>NaN</td>\n",
       "      <td>0</td>\n",
       "      <td>6</td>\n",
       "      <td>2010</td>\n",
       "      <td>WD</td>\n",
       "      <td>Normal</td>\n",
       "    </tr>\n",
       "    <tr>\n",
       "      <th>1</th>\n",
       "      <td>1462</td>\n",
       "      <td>20</td>\n",
       "      <td>RL</td>\n",
       "      <td>81.0</td>\n",
       "      <td>14267</td>\n",
       "      <td>Pave</td>\n",
       "      <td>NaN</td>\n",
       "      <td>IR1</td>\n",
       "      <td>Lvl</td>\n",
       "      <td>AllPub</td>\n",
       "      <td>...</td>\n",
       "      <td>0</td>\n",
       "      <td>0</td>\n",
       "      <td>NaN</td>\n",
       "      <td>NaN</td>\n",
       "      <td>Gar2</td>\n",
       "      <td>12500</td>\n",
       "      <td>6</td>\n",
       "      <td>2010</td>\n",
       "      <td>WD</td>\n",
       "      <td>Normal</td>\n",
       "    </tr>\n",
       "    <tr>\n",
       "      <th>2</th>\n",
       "      <td>1463</td>\n",
       "      <td>60</td>\n",
       "      <td>RL</td>\n",
       "      <td>74.0</td>\n",
       "      <td>13830</td>\n",
       "      <td>Pave</td>\n",
       "      <td>NaN</td>\n",
       "      <td>IR1</td>\n",
       "      <td>Lvl</td>\n",
       "      <td>AllPub</td>\n",
       "      <td>...</td>\n",
       "      <td>0</td>\n",
       "      <td>0</td>\n",
       "      <td>NaN</td>\n",
       "      <td>MnPrv</td>\n",
       "      <td>NaN</td>\n",
       "      <td>0</td>\n",
       "      <td>3</td>\n",
       "      <td>2010</td>\n",
       "      <td>WD</td>\n",
       "      <td>Normal</td>\n",
       "    </tr>\n",
       "    <tr>\n",
       "      <th>3</th>\n",
       "      <td>1464</td>\n",
       "      <td>60</td>\n",
       "      <td>RL</td>\n",
       "      <td>78.0</td>\n",
       "      <td>9978</td>\n",
       "      <td>Pave</td>\n",
       "      <td>NaN</td>\n",
       "      <td>IR1</td>\n",
       "      <td>Lvl</td>\n",
       "      <td>AllPub</td>\n",
       "      <td>...</td>\n",
       "      <td>0</td>\n",
       "      <td>0</td>\n",
       "      <td>NaN</td>\n",
       "      <td>NaN</td>\n",
       "      <td>NaN</td>\n",
       "      <td>0</td>\n",
       "      <td>6</td>\n",
       "      <td>2010</td>\n",
       "      <td>WD</td>\n",
       "      <td>Normal</td>\n",
       "    </tr>\n",
       "    <tr>\n",
       "      <th>4</th>\n",
       "      <td>1465</td>\n",
       "      <td>120</td>\n",
       "      <td>RL</td>\n",
       "      <td>43.0</td>\n",
       "      <td>5005</td>\n",
       "      <td>Pave</td>\n",
       "      <td>NaN</td>\n",
       "      <td>IR1</td>\n",
       "      <td>HLS</td>\n",
       "      <td>AllPub</td>\n",
       "      <td>...</td>\n",
       "      <td>144</td>\n",
       "      <td>0</td>\n",
       "      <td>NaN</td>\n",
       "      <td>NaN</td>\n",
       "      <td>NaN</td>\n",
       "      <td>0</td>\n",
       "      <td>1</td>\n",
       "      <td>2010</td>\n",
       "      <td>WD</td>\n",
       "      <td>Normal</td>\n",
       "    </tr>\n",
       "  </tbody>\n",
       "</table>\n",
       "<p>5 rows × 80 columns</p>\n",
       "</div>"
      ],
      "text/plain": [
       "     Id  MSSubClass MSZoning  LotFrontage  LotArea Street Alley LotShape  \\\n",
       "0  1461          20       RH         80.0    11622   Pave   NaN      Reg   \n",
       "1  1462          20       RL         81.0    14267   Pave   NaN      IR1   \n",
       "2  1463          60       RL         74.0    13830   Pave   NaN      IR1   \n",
       "3  1464          60       RL         78.0     9978   Pave   NaN      IR1   \n",
       "4  1465         120       RL         43.0     5005   Pave   NaN      IR1   \n",
       "\n",
       "  LandContour Utilities  ... ScreenPorch PoolArea PoolQC  Fence MiscFeature  \\\n",
       "0         Lvl    AllPub  ...         120        0    NaN  MnPrv         NaN   \n",
       "1         Lvl    AllPub  ...           0        0    NaN    NaN        Gar2   \n",
       "2         Lvl    AllPub  ...           0        0    NaN  MnPrv         NaN   \n",
       "3         Lvl    AllPub  ...           0        0    NaN    NaN         NaN   \n",
       "4         HLS    AllPub  ...         144        0    NaN    NaN         NaN   \n",
       "\n",
       "  MiscVal MoSold  YrSold  SaleType  SaleCondition  \n",
       "0       0      6    2010        WD         Normal  \n",
       "1   12500      6    2010        WD         Normal  \n",
       "2       0      3    2010        WD         Normal  \n",
       "3       0      6    2010        WD         Normal  \n",
       "4       0      1    2010        WD         Normal  \n",
       "\n",
       "[5 rows x 80 columns]"
      ]
     },
     "execution_count": 359,
     "metadata": {},
     "output_type": "execute_result"
    }
   ],
   "source": [
    "test.head()"
   ]
  },
  {
   "cell_type": "code",
   "execution_count": 361,
   "id": "tropical-entity",
   "metadata": {},
   "outputs": [],
   "source": [
    "df_prediction = pd.DataFrame()"
   ]
  },
  {
   "cell_type": "code",
   "execution_count": 365,
   "id": "coated-shell",
   "metadata": {},
   "outputs": [],
   "source": [
    "df_prediction['Id'] = test['Id']\n",
    "df_prediction['SalePrice'] = prediction"
   ]
  },
  {
   "cell_type": "code",
   "execution_count": 369,
   "id": "sticky-florence",
   "metadata": {},
   "outputs": [
    {
     "data": {
      "text/html": [
       "<div>\n",
       "<style scoped>\n",
       "    .dataframe tbody tr th:only-of-type {\n",
       "        vertical-align: middle;\n",
       "    }\n",
       "\n",
       "    .dataframe tbody tr th {\n",
       "        vertical-align: top;\n",
       "    }\n",
       "\n",
       "    .dataframe thead th {\n",
       "        text-align: right;\n",
       "    }\n",
       "</style>\n",
       "<table border=\"1\" class=\"dataframe\">\n",
       "  <thead>\n",
       "    <tr style=\"text-align: right;\">\n",
       "      <th></th>\n",
       "      <th>Id</th>\n",
       "      <th>SalePrice</th>\n",
       "    </tr>\n",
       "  </thead>\n",
       "  <tbody>\n",
       "    <tr>\n",
       "      <th>0</th>\n",
       "      <td>1461</td>\n",
       "      <td>119797.0</td>\n",
       "    </tr>\n",
       "    <tr>\n",
       "      <th>1</th>\n",
       "      <td>1462</td>\n",
       "      <td>144945.0</td>\n",
       "    </tr>\n",
       "    <tr>\n",
       "      <th>2</th>\n",
       "      <td>1463</td>\n",
       "      <td>169607.0</td>\n",
       "    </tr>\n",
       "    <tr>\n",
       "      <th>3</th>\n",
       "      <td>1464</td>\n",
       "      <td>192811.0</td>\n",
       "    </tr>\n",
       "    <tr>\n",
       "      <th>4</th>\n",
       "      <td>1465</td>\n",
       "      <td>206987.0</td>\n",
       "    </tr>\n",
       "  </tbody>\n",
       "</table>\n",
       "</div>"
      ],
      "text/plain": [
       "     Id  SalePrice\n",
       "0  1461   119797.0\n",
       "1  1462   144945.0\n",
       "2  1463   169607.0\n",
       "3  1464   192811.0\n",
       "4  1465   206987.0"
      ]
     },
     "execution_count": 369,
     "metadata": {},
     "output_type": "execute_result"
    }
   ],
   "source": [
    "df_prediction.head()"
   ]
  },
  {
   "cell_type": "code",
   "execution_count": 370,
   "id": "binary-verification",
   "metadata": {},
   "outputs": [],
   "source": [
    "df_prediction.to_csv('Home_predictionsGB.csv',index=False)"
   ]
  },
  {
   "cell_type": "code",
   "execution_count": null,
   "id": "loving-banking",
   "metadata": {},
   "outputs": [],
   "source": []
  }
 ],
 "metadata": {
  "kernelspec": {
   "display_name": "Python 3",
   "language": "python",
   "name": "python3"
  },
  "language_info": {
   "codemirror_mode": {
    "name": "ipython",
    "version": 3
   },
   "file_extension": ".py",
   "mimetype": "text/x-python",
   "name": "python",
   "nbconvert_exporter": "python",
   "pygments_lexer": "ipython3",
   "version": "3.8.5"
  },
  "toc": {
   "base_numbering": 1,
   "nav_menu": {},
   "number_sections": true,
   "sideBar": true,
   "skip_h1_title": false,
   "title_cell": "Table of Contents",
   "title_sidebar": "Contents",
   "toc_cell": false,
   "toc_position": {
    "height": "calc(100% - 180px)",
    "left": "10px",
    "top": "150px",
    "width": "197px"
   },
   "toc_section_display": true,
   "toc_window_display": true
  },
  "varInspector": {
   "cols": {
    "lenName": 16,
    "lenType": 16,
    "lenVar": 40
   },
   "kernels_config": {
    "python": {
     "delete_cmd_postfix": "",
     "delete_cmd_prefix": "del ",
     "library": "var_list.py",
     "varRefreshCmd": "print(var_dic_list())"
    },
    "r": {
     "delete_cmd_postfix": ") ",
     "delete_cmd_prefix": "rm(",
     "library": "var_list.r",
     "varRefreshCmd": "cat(var_dic_list()) "
    }
   },
   "position": {
    "height": "541px",
    "left": "768px",
    "right": "20px",
    "top": "120px",
    "width": "322px"
   },
   "types_to_exclude": [
    "module",
    "function",
    "builtin_function_or_method",
    "instance",
    "_Feature"
   ],
   "window_display": false
  }
 },
 "nbformat": 4,
 "nbformat_minor": 5
}
